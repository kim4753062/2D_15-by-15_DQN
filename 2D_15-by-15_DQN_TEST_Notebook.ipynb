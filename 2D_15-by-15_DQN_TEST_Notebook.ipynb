{
 "cells": [
  {
   "cell_type": "code",
   "execution_count": 40,
   "outputs": [],
   "source": [
    "# Import required modules\n",
    "%load_ext autoreload\n",
    "%autoreload 2\n",
    "\n",
    "import numpy as np\n",
    "import os.path\n",
    "import pickle\n",
    "\n",
    "import argparse\n",
    "import torch\n",
    "\n",
    "import random\n",
    "import numpy.random\n",
    "import torch.random\n",
    "\n",
    "from datetime import datetime\n",
    "\n",
    "import warnings\n",
    "warnings.filterwarnings(action='ignore')"
   ],
   "metadata": {
    "collapsed": false,
    "ExecuteTime": {
     "start_time": "2023-05-03T10:28:18.849585Z",
     "end_time": "2023-05-03T10:28:20.582229Z"
    }
   }
  },
  {
   "cell_type": "code",
   "execution_count": 41,
   "outputs": [],
   "source": [
    "# Define variables\n",
    "parser = argparse.ArgumentParser()\n",
    "args, unknown = parser.parse_known_args()\n",
    "\n",
    "# 2023-05-02\n",
    "# For Using GPU (CUDA)\n",
    "args.device = torch.device('cuda' if torch.cuda.is_available() else 'cpu')\n",
    "\n",
    "# 2023-05-02\n",
    "# For using tensorboard\n",
    "args.istensorboard = False\n",
    "\n",
    "args.total_episode = 100\n",
    "args.learning_rate = 0.1 # Learning rate Alpha\n",
    "args.boltzmann_tau_initial = 5 # Initial temperature parameter at Boltzmann policy, Tau\n",
    "args.total_reward = 0\n",
    "args.epsilon = 0.1\n",
    "\n",
    "args.max_iteration = 50 # Maximum iteration num. of algorithm, MAX_STEPS\n",
    "args.replay_batch = 100 # Replay batch size, B\n",
    "args.nn_update_num = 20 # CNN update number, U: [(1) Constant num. of iteration], (2) Lower limit of loss function value\n",
    "args.batch_size = 20 # Batch size, N\n",
    "args.replay_memory = [] # (1) Using list class, (2) Replay memory class by SLM Lab (page. 105~108)\n",
    "\n",
    "args.gridnum_x = 15\n",
    "args.gridnum_y = 15\n",
    "args.gridsize_x = 120 # ft\n",
    "args.gridsize_y = 120 # ft\n",
    "\n",
    "args.time_step = 120 # days\n",
    "args.total_production_time = 600 # days\n",
    "\n",
    "# 2023-05-02: For reproduction\n",
    "args.random_seed = 202022673\n",
    "random.seed(args.random_seed)\n",
    "np.random.seed(args.random_seed)\n",
    "torch.manual_seed(args.random_seed)\n",
    "\n",
    "# State: Pressure distribution, Oil saturation\n",
    "\n",
    "# Action: Well placement (Coordinate of well location)\n",
    "\n",
    "# Environment: Reservoir simulator\n",
    "\n",
    "# Reward: NPV at each time segment\n",
    "\n",
    "args.discount_rate = 0.1 # Used for calculation of NPV\n",
    "args.discount_factor = 1 # Used for Q-value update\n",
    "\n",
    "args.simulation_directory = \"H:\\\\Lab_Meeting\\\\Simulation_Model\\\\2D_15-by-15_DQN\\\\2D_15-by-15_DQN_Filetest\""
   ],
   "metadata": {
    "collapsed": false,
    "ExecuteTime": {
     "start_time": "2023-05-03T10:28:20.584229Z",
     "end_time": "2023-05-03T10:28:20.693254Z"
    }
   }
  },
  {
   "cell_type": "code",
   "execution_count": 44,
   "outputs": [
    {
     "name": "stdout",
     "output_type": "stream",
     "text": [
      "[['2896.53', '2801.27', '2668.91', '2384.10', '1984*63', '2246.24', '2554.42', '2856.06', '2877.74', '2638.75', '2045.21', '1714.65', '1637.40', '1612.53', '1609.95'], ['2790.04', '2742.56', '2645.40', '2452.54', '2269.98', '2297.21', '2389.38', '2466.83', '2380.28', '2094.32', '1898.41', '1698.56', '1624.00', '1606.58', '1603.59'], ['2710.02', '2667.83', '2570.33', '2440.28', '2324.07', '2238.68', '2189.47', '2180.97', '2031.79', '1877.39', '1754.63', '1661.49', '1605.74', '1592.54', '1590.28'], ['2611.85', '2580.33', '2456.93', '2363.23', '2187.79', '2046.79', '1985.28', '1905.04', '1770.26', '1679.24', '1640.66', '1609.55', '1581.99', '1577.25', '1577.90'], ['2500.25', '2422.37', '2296.76', '2200.01', '1952.87', '1878.80', '1792.09', '1716.47', '1648.39', '1622.20', '1603.89', '1581.42', '1562.48', '1566.53', '1569.50'], ['2347.99', '2235.47', '2184.07', '1997.50', '1796.98', '1732.41', '1670.44', '1635.46', '1613.06', '1601.27', '1589.73', '1568.60', '1537*60', '1556.66', '1563.24'], ['2083.36', '1992.11', '1918.91', '1773.30', '1711.77', '1661.40', '1629.41', '1597.02', '1593.65', '1592.17', '1588.18', '1578.28', '1562.34', '1564.25', '1567.96'], ['1768.57', '1749.17', '1714.96', '1692.25', '1660.79', '1630.66', '1599.72', '1557*80', '1582.02', '1588.17', '1588.03', '1584.59', '1578.05', '1574.19', '1575.69'], ['1645.66', '1653.73', '1660.35', '1647.50', '1634.17', '1620.60', '1600.78', '1581.57', '1586.64', '1589.51', '1590.05', '1588.06', '1585.01', '1581.88', '1581.58'], ['1601.03', '1607.08', '1620.04', '1620.96', '1616.07', '1610.08', '1600.11', '1592.00', '1591.84', '1593.63', '1594.84', '1594.78', '1595.06', '1591.35', '1588.88'], ['1593.96', '1593.02', '1598.28', '1601.77', '1602.99', '1599.68', '1596.42', '1595.71', '1596.62', '1598.03', '1600.11', '1602.29', '1608.93', '1598.80', '1589.09'], ['1588.40', '1587.96', '1585.65', '1584.67', '1586.82', '1587.75', '1589.36', '1593.80', '1597.79', '1600.91', '1604.52', '1608.51', '1613.57', '1593.69', '1576.53'], ['1580.94', '1580.63', '1576.05', '1570.28', '1570.01', '1573.75', '1578.91', '1589.15', '1597.56', '1603.14', '1607.35', '1613.47', '1613.37', '1592.18', '1555*11'], ['1576.16', '1574.13', '1562.38', '1548.92', '1554.55', '1563.63', '1569.80', '1582.99', '1594.91', '1603.88', '1615.54', '1627.36', '1627.33', '1606.67', '1585.84'], ['1572.77', '1564.34', '1543.46', '1523*14', '1540.85', '1556.61', '1564.95', '1577.41', '1591.68', '1608.06', '1630.14', '1641.98', '1635.86', '1617.21', '1601.63']]\n"
     ]
    }
   ],
   "source": [
    "# with open(\"H:\\\\Lab_Meeting\\\\Simulation_Model\\\\2D_15-by-15_DQN\\\\2D_15-by-15_DQN_Filetest\\\\2D_JY_ECLRUN_1.PRT\", 'r') as file_read:\n",
    "#     line = file_read.readline()\n",
    "#     print(line)\n",
    "#     while not line.startswith(f\"  PRESSURE AT   {120*1}\"):\n",
    "#         line = file_read.readline()\n",
    "#     for i in range(1,10+1):\n",
    "#         line = file_read.readline()\n",
    "#     print(line)\n",
    "#\n",
    "#     line_temp = []\n",
    "#     lines_converted = []\n",
    "#     for i in range(1, 15+1):\n",
    "#         # line_temp = [element.strip() for element in line.split()]\n",
    "#         lines_converted.append([element.strip() for element in line.split()][3::])\n",
    "#         line = file_read.readline()\n",
    "#     print(lines_converted)\n",
    "# print(f\"  PRESSURE AT   {120*1}\")\n",
    "\n",
    "def _read_ecl_prt(args, idx: int, tstep_idx: int, filename: str, dynamic_type: str) -> list:\n",
    "    # Check if dynamic type input is (1) 'PRESSURE' or (2) 'SOIL'\n",
    "    if not (dynamic_type == 'PRESSURE' or 'SOIL'):\n",
    "        print(\"Assign correct dynamic data input type!\")\n",
    "        exit()\n",
    "\n",
    "    # File IO\n",
    "    # 1. Open .PRT file\n",
    "    with open(args.simulation_directory+'\\\\'+filename+'_'+str(idx)+'.PRT') as file_read:\n",
    "        line = file_read.readline()\n",
    "        # 2. Fine the location of dynamic data\n",
    "        while not line.startswith(f\"  {dynamic_type} AT   {args.time_step * tstep_idx}\"):\n",
    "            line = file_read.readline()\n",
    "        # 3. Dynamic data is located at 10th line below the line [\"  {dynamic_type} AT   {args.time_step * tstep_idx}\"]\n",
    "        for i in range(1,10+1):\n",
    "            line = file_read.readline()\n",
    "        # 4. Collect dynamic data\n",
    "        lines_converted = []\n",
    "        for i in range(1, args.gridnum_y+1):\n",
    "            lines_converted.append([element.strip() for element in line.split()][3::])\n",
    "            line = file_read.readline()\n",
    "\n",
    "    return lines_converted\n",
    "\n",
    "test = _read_ecl_prt(args, 1, 1, '2D_JY_ECLRUN', 'PRESSURE')\n",
    "\n",
    "print(test)"
   ],
   "metadata": {
    "collapsed": false,
    "ExecuteTime": {
     "start_time": "2023-05-03T10:29:19.820245Z",
     "end_time": "2023-05-03T10:29:19.896262Z"
    }
   }
  },
  {
   "cell_type": "code",
   "execution_count": null,
   "outputs": [],
   "source": [
    "# def _get_griddata(self, idx, tstep_idx, filename, data_type):\n",
    "#     nx, ny = self.args.num_of_x, self.args.num_of_y\n",
    "#\n",
    "#     with open(self.simulation_directory+'/'+filename+'_'+str(idx)+'.F'+'0'*(4-len(str(tstep_idx)))+str(tstep_idx)) as f:\n",
    "#         lines = f.readlines()\n",
    "#\n",
    "#     lines_converted = []\n",
    "#     for line in lines:\n",
    "#         lines_converted.append([element.strip() for element in line.split()])\n",
    "#\n",
    "#     condition = False\n",
    "#     data = []\n",
    "#\n",
    "#     for line in lines_converted:\n",
    "#         if f\"'{data_type}\" in line or f\"'{data_type}'\" in line:\n",
    "#             condition = True\n",
    "#         elif condition:\n",
    "#             data += [float(l) for l in line]\n",
    "#         if len(data) == nx*ny:\n",
    "#             break\n",
    "#\n",
    "#     return data"
   ],
   "metadata": {
    "collapsed": false
   }
  }
 ],
 "metadata": {
  "kernelspec": {
   "display_name": "RL_env",
   "language": "python",
   "name": "python3"
  },
  "language_info": {
   "codemirror_mode": {
    "name": "ipython",
    "version": 3
   },
   "file_extension": ".py",
   "mimetype": "text/x-python",
   "name": "python",
   "nbconvert_exporter": "python",
   "pygments_lexer": "ipython3",
   "version": "3.10.11"
  },
  "orig_nbformat": 4
 },
 "nbformat": 4,
 "nbformat_minor": 2
}
