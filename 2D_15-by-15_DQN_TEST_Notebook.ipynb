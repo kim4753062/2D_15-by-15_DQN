{
 "cells": [
  {
   "cell_type": "code",
   "execution_count": 10,
   "outputs": [
    {
     "name": "stdout",
     "output_type": "stream",
     "text": [
      "The autoreload extension is already loaded. To reload it, use:\n",
      "  %reload_ext autoreload\n"
     ]
    }
   ],
   "source": [
    "# Import required modules\n",
    "%load_ext autoreload\n",
    "%autoreload 2\n",
    "\n",
    "import numpy as np\n",
    "import os.path\n",
    "import pickle\n",
    "\n",
    "import argparse\n",
    "import torch\n",
    "\n",
    "import random\n",
    "import numpy.random\n",
    "import torch.random\n",
    "\n",
    "from datetime import datetime\n",
    "\n",
    "import warnings\n",
    "warnings.filterwarnings(action='ignore')"
   ],
   "metadata": {
    "collapsed": false,
    "ExecuteTime": {
     "start_time": "2023-05-03T10:52:19.588087Z",
     "end_time": "2023-05-03T10:52:19.668104Z"
    }
   }
  },
  {
   "cell_type": "code",
   "execution_count": 11,
   "outputs": [],
   "source": [
    "# Define variables\n",
    "parser = argparse.ArgumentParser()\n",
    "args, unknown = parser.parse_known_args()\n",
    "\n",
    "# 2023-05-02\n",
    "# For Using GPU (CUDA)\n",
    "args.device = torch.device('cuda' if torch.cuda.is_available() else 'cpu')\n",
    "\n",
    "# 2023-05-02\n",
    "# For using tensorboard\n",
    "args.istensorboard = False\n",
    "\n",
    "args.total_episode = 100\n",
    "args.learning_rate = 0.1 # Learning rate Alpha\n",
    "args.boltzmann_tau_initial = 5 # Initial temperature parameter at Boltzmann policy, Tau\n",
    "args.total_reward = 0\n",
    "args.epsilon = 0.1\n",
    "\n",
    "args.max_iteration = 50 # Maximum iteration num. of algorithm, MAX_STEPS\n",
    "args.replay_batch = 100 # Replay batch size, B\n",
    "args.nn_update_num = 20 # CNN update number, U: [(1) Constant num. of iteration], (2) Lower limit of loss function value\n",
    "args.batch_size = 20 # Batch size, N\n",
    "args.replay_memory = [] # (1) Using list class, (2) Replay memory class by SLM Lab (page. 105~108)\n",
    "\n",
    "args.gridnum_x = 15\n",
    "args.gridnum_y = 15\n",
    "args.gridsize_x = 120 # ft\n",
    "args.gridsize_y = 120 # ft\n",
    "\n",
    "args.time_step = 120 # days\n",
    "args.total_production_time = 600 # days\n",
    "\n",
    "# 2023-05-02: For reproduction\n",
    "args.random_seed = 202022673\n",
    "random.seed(args.random_seed)\n",
    "np.random.seed(args.random_seed)\n",
    "torch.manual_seed(args.random_seed)\n",
    "\n",
    "# State: Pressure distribution, Oil saturation\n",
    "\n",
    "# Action: Well placement (Coordinate of well location)\n",
    "\n",
    "# Environment: Reservoir simulator\n",
    "\n",
    "# Reward: NPV at each time segment\n",
    "\n",
    "args.discount_rate = 0.1 # Used for calculation of NPV\n",
    "args.discount_factor = 1 # Used for Q-value update\n",
    "\n",
    "args.simulation_directory = \"H:\\\\Lab_Meeting\\\\Simulation_Model\\\\2D_15-by-15_DQN\\\\2D_15-by-15_DQN_Filetest\""
   ],
   "metadata": {
    "collapsed": false,
    "ExecuteTime": {
     "start_time": "2023-05-03T10:52:19.732119Z",
     "end_time": "2023-05-03T10:52:19.813137Z"
    }
   }
  },
  {
   "cell_type": "code",
   "execution_count": 18,
   "outputs": [
    {
     "name": "stdout",
     "output_type": "stream",
     "text": [
      "[['0.73969', '0.73928', '0.73878', '0.73782', '0*73727', '0.73719', '0.73822', '0.73949', '0.73953', '0.73827', '0.73607', '0.73526', '0.73503', '0.73493', '0.73488'], ['0.73917', '0.73898', '0.73861', '0.73791', '0.73729', '0.73723', '0.73748', '0.73773', '0.73741', '0.73642', '0.73570', '0.73522', '0.73505', '0.73495', '0.73488'], ['0.73880', '0.73865', '0.73828', '0.73779', '0.73733', '0.73696', '0.73677', '0.73671', '0.73624', '0.73578', '0.73535', '0.73506', '0.73498', '0.73500', '0.73491'], ['0.73839', '0.73827', '0.73784', '0.73748', '0.73690', '0.73641', '0.73621', '0.73591', '0.73558', '0.73538', '0.73516', '0.73499', '0.73498', '0.73506', '0.73493'], ['0.73795', '0.73768', '0.73729', '0.73694', '0.73635', '0.73595', '0.73576', '0.73542', '0.73523', '0.73512', '0.73506', '0.73502', '0.73513', '0.73509', '0.73489'], ['0.73740', '0.73706', '0.73689', '0.73628', '0.73588', '0.73559', '0.73549', '0.73521', '0.73504', '0.73497', '0.73496', '0.73523', '0*73592', '0.73524', '0.73487'], ['0.73649', '0.73634', '0.73620', '0.73566', '0.73549', '0.73536', '0.73530', '0.73526', '0.73498', '0.73488', '0.73487', '0.73494', '0.73508', '0.73501', '0.73485'], ['0.73559', '0.73566', '0.73554', '0.73527', '0.73521', '0.73521', '0.73540', '0*73596', '0.73513', '0.73492', '0.73489', '0.73489', '0.73488', '0.73490', '0.73485'], ['0.73519', '0.73524', '0.73521', '0.73510', '0.73504', '0.73501', '0.73502', '0.73514', '0.73501', '0.73497', '0.73490', '0.73490', '0.73487', '0.73488', '0.73485'], ['0.73506', '0.73511', '0.73506', '0.73500', '0.73496', '0.73492', '0.73490', '0.73490', '0.73493', '0.73495', '0.73490', '0.73490', '0.73486', '0.73484', '0.73482'], ['0.73496', '0.73500', '0.73497', '0.73495', '0.73493', '0.73489', '0.73487', '0.73486', '0.73487', '0.73490', '0.73489', '0.73489', '0.73484', '0.73482', '0.73481'], ['0.73492', '0.73495', '0.73492', '0.73495', '0.73493', '0.73489', '0.73490', '0.73488', '0.73487', '0.73488', '0.73488', '0.73487', '0.73484', '0.73483', '0.73491'], ['0.73493', '0.73498', '0.73497', '0.73502', '0.73499', '0.73496', '0.73498', '0.73489', '0.73488', '0.73488', '0.73490', '0.73488', '0.73485', '0.73489', '0*73562'], ['0.73491', '0.73495', '0.73514', '0.73543', '0.73518', '0.73502', '0.73505', '0.73493', '0.73489', '0.73488', '0.73489', '0.73487', '0.73484', '0.73484', '0.73494'], ['0.73486', '0.73503', '0.73559', '0*73620', '0.73562', '0.73515', '0.73506', '0.73495', '0.73490', '0.73488', '0.73487', '0.73486', '0.73484', '0.73484', '0.73484']]\n"
     ]
    }
   ],
   "source": [
    "# with open(\"H:\\\\Lab_Meeting\\\\Simulation_Model\\\\2D_15-by-15_DQN\\\\2D_15-by-15_DQN_Filetest\\\\2D_JY_ECLRUN_1.PRT\", 'r') as file_read:\n",
    "#     line = file_read.readline()\n",
    "#     print(line)\n",
    "#     while not line.startswith(f\"  PRESSURE AT   {120*1}\"):\n",
    "#         line = file_read.readline()\n",
    "#     for i in range(1,10+1):\n",
    "#         line = file_read.readline()\n",
    "#     print(line)\n",
    "#\n",
    "#     line_temp = []\n",
    "#     lines_converted = []\n",
    "#     for i in range(1, 15+1):\n",
    "#         # line_temp = [element.strip() for element in line.split()]\n",
    "#         lines_converted.append([element.strip() for element in line.split()][3::])\n",
    "#         line = file_read.readline()\n",
    "#     print(lines_converted)\n",
    "# print(f\"  PRESSURE AT   {120*1}\")\n",
    "\n",
    "################################# Reading Dynamic Data #################################\n",
    "# idx: simulation file index\n",
    "# tstep_idx: simulation time step index\n",
    "# filename: simulation file name\n",
    "# dynamic_type: dynamic data type to collect ('PRESSURE' or 'SOIL')\n",
    "def _read_ecl_prt(args, idx: int, tstep_idx: int, filename: str, dynamic_type: str) -> list:\n",
    "    # Check if dynamic type input is (1) 'PRESSURE' or (2) 'SOIL'\n",
    "    if not dynamic_type in ['PRESSURE', 'SOIL']:\n",
    "        print(\"Assign correct dynamic data output type!\")\n",
    "        return -1\n",
    "\n",
    "    # File IO\n",
    "    # 1. Open .PRT file\n",
    "    with open(args.simulation_directory+'\\\\'+filename+'_'+str(idx)+'.PRT') as file_read:\n",
    "        line = file_read.readline()\n",
    "        if dynamic_type == 'PRESSURE':\n",
    "            # 2. Fine the location of dynamic data (PRESSURE case)\n",
    "            while not line.startswith(f\"  {dynamic_type} AT   {args.time_step * tstep_idx}\"):\n",
    "                line = file_read.readline()\n",
    "            # 3. Dynamic data is located at 10th line below the line [\"  {dynamic_type} AT   {args.time_step * tstep_idx}\"]\n",
    "            for i in range(1,10+1):\n",
    "                line = file_read.readline()\n",
    "            # 4. Collect dynamic data\n",
    "            lines_converted = []\n",
    "            for i in range(1, args.gridnum_y+1):\n",
    "                lines_converted.append([element.strip() for element in line.split()][3::])\n",
    "                line = file_read.readline()\n",
    "        elif dynamic_type == 'SOIL':\n",
    "            # 2. Fine the location of dynamic data (PRESSURE case)\n",
    "            while not line.startswith(f\"  {dynamic_type}     AT   {args.time_step * tstep_idx}\"):\n",
    "                line = file_read.readline()\n",
    "            # 3. Dynamic data is located at 10th line below the line [\"  {dynamic_type} AT   {args.time_step * tstep_idx}\"]\n",
    "            for i in range(1,10+1):\n",
    "                line = file_read.readline()\n",
    "            # 4. Collect dynamic data\n",
    "            lines_converted = []\n",
    "            for i in range(1, args.gridnum_y+1):\n",
    "                lines_converted.append([element.strip() for element in line.split()][3::])\n",
    "                line = file_read.readline()\n",
    "\n",
    "    return lines_converted\n",
    "\n",
    "print(_read_ecl_prt(args, 1, 2, '2D_JY_ECLRUN', 'SOIL'))\n",
    "\n",
    "# print(test)"
   ],
   "metadata": {
    "collapsed": false,
    "ExecuteTime": {
     "start_time": "2023-05-03T10:55:45.856559Z",
     "end_time": "2023-05-03T10:55:45.940578Z"
    }
   }
  },
  {
   "cell_type": "code",
   "execution_count": 53,
   "outputs": [],
   "source": [
    "dynamic_type = 'PRESSURE'\n",
    "\n",
    "if dynamic_type != ('PRESSURE' or 'SOIL'):\n",
    "    print(\"Assign correct dynamic data input type!\")"
   ],
   "metadata": {
    "collapsed": false,
    "ExecuteTime": {
     "start_time": "2023-05-03T10:48:33.336034Z",
     "end_time": "2023-05-03T10:48:33.411051Z"
    }
   }
  },
  {
   "cell_type": "code",
   "execution_count": null,
   "outputs": [],
   "source": [],
   "metadata": {
    "collapsed": false
   }
  }
 ],
 "metadata": {
  "kernelspec": {
   "display_name": "RL_env",
   "language": "python",
   "name": "python3"
  },
  "language_info": {
   "codemirror_mode": {
    "name": "ipython",
    "version": 3
   },
   "file_extension": ".py",
   "mimetype": "text/x-python",
   "name": "python",
   "nbconvert_exporter": "python",
   "pygments_lexer": "ipython3",
   "version": "3.10.11"
  },
  "orig_nbformat": 4
 },
 "nbformat": 4,
 "nbformat_minor": 2
}
