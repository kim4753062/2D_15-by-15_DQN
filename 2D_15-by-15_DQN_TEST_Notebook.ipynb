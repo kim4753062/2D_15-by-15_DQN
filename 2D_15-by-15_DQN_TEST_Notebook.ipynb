{
 "cells": [
  {
   "cell_type": "code",
   "execution_count": 20,
   "outputs": [],
   "source": [
    "import copy\n",
    "# Import required modules\n",
    "%load_ext autoreload\n",
    "%autoreload 2\n",
    "\n",
    "import numpy as np\n",
    "import os.path\n",
    "import pickle\n",
    "\n",
    "import argparse\n",
    "import torch\n",
    "\n",
    "import random\n",
    "import numpy.random\n",
    "import torch.random\n",
    "\n",
    "from datetime import datetime\n",
    "\n",
    "import warnings\n",
    "warnings.filterwarnings(action='ignore')"
   ],
   "metadata": {
    "collapsed": false,
    "ExecuteTime": {
     "start_time": "2023-05-05T16:43:56.772332Z",
     "end_time": "2023-05-05T16:43:58.270493Z"
    }
   }
  },
  {
   "cell_type": "code",
   "execution_count": 26,
   "outputs": [],
   "source": [
    "# Define variables\n",
    "parser = argparse.ArgumentParser()\n",
    "args, unknown = parser.parse_known_args()\n",
    "\n",
    "# 2023-05-02\n",
    "# For Using GPU (CUDA)\n",
    "args.device = torch.device('cuda' if torch.cuda.is_available() else 'cpu')\n",
    "\n",
    "# 2023-05-02\n",
    "# For using tensorboard\n",
    "args.istensorboard = False\n",
    "\n",
    "args.total_episode = 100\n",
    "args.learning_rate = 0.1 # Learning rate Alpha\n",
    "args.boltzmann_tau = 5.0 # Initial temperature parameter at Boltzmann policy, Tau\n",
    "args.total_reward = 0\n",
    "args.epsilon = 0.1\n",
    "\n",
    "args.max_iteration = 50 # Maximum iteration num. of algorithm, MAX_STEPS\n",
    "args.replay_batch = 100 # Replay batch size, B\n",
    "args.nn_update_num = 20 # CNN update number, U: [(1) Constant num. of iteration], (2) Lower limit of loss function value\n",
    "args.batch_size = 20 # Batch size, N\n",
    "args.replay_memory = [] # (1) Using list class, (2) Replay memory class by SLM Lab (page. 105~108)\n",
    "\n",
    "args.gridnum_x = 15\n",
    "args.gridnum_y = 15\n",
    "args.gridsize_x = 120 # ft\n",
    "args.gridsize_y = 120 # ft\n",
    "\n",
    "args.time_step = 120 # days\n",
    "args.total_production_time = 600 # days\n",
    "\n",
    "# 2023-05-02: For reproduction\n",
    "args.random_seed = 202022673\n",
    "random.seed(args.random_seed)\n",
    "np.random.seed(args.random_seed)\n",
    "torch.manual_seed(args.random_seed)\n",
    "\n",
    "# State: Pressure distribution, Oil saturation\n",
    "\n",
    "# Action: Well placement (Coordinate of well location)\n",
    "\n",
    "# Environment: Reservoir simulator\n",
    "\n",
    "# Reward: NPV at each time segment\n",
    "\n",
    "args.discount_rate = 0.1 # Used for calculation of NPV\n",
    "args.discount_factor = 1 # Used for Q-value update\n",
    "\n",
    "args.simulation_directory = \"H:\\\\Lab_Meeting\\\\Simulation_Model\\\\2D_15-by-15_DQN\\\\2D_15-by-15_DQN_Filetest\""
   ],
   "metadata": {
    "collapsed": false,
    "ExecuteTime": {
     "start_time": "2023-05-05T16:44:44.492705Z",
     "end_time": "2023-05-05T16:44:44.589230Z"
    }
   }
  },
  {
   "cell_type": "code",
   "execution_count": 27,
   "outputs": [
    {
     "name": "stdout",
     "output_type": "stream",
     "text": [
      "[[2150.96, 2097.01, 2029.83, 1890.89, 1706.59, 1814.43, 1956.97, 2125.1, 2131.02, 1965.12, 1670.66, 1557.06, 1534.02, 1527.14, 1526.33], [2082.75, 2057.76, 2008.36, 1911.3, 1823.34, 1829.44, 1861.85, 1891.1, 1844.18, 1707.45, 1622.87, 1553.2, 1530.66, 1525.75, 1524.83], [2034.26, 2013.03, 1962.96, 1897.48, 1840.44, 1794.8, 1765.94, 1755.4, 1688.11, 1623.46, 1575.18, 1542.8, 1526.04, 1522.34, 1521.65], [1978.57, 1963.81, 1902.62, 1857.74, 1774.76, 1708.74, 1679.76, 1642.79, 1588.35, 1554.03, 1539.91, 1528.95, 1520.24, 1518.68, 1518.73], [1919.54, 1882.45, 1824.01, 1780.28, 1671.76, 1639.07, 1602.81, 1571.47, 1544.92, 1535.05, 1528.63, 1521.42, 1515.54, 1516.11, 1516.71], [1844.56, 1794.12, 1772.03, 1689.65, 1606.7, 1580.54, 1556.19, 1542.33, 1532.93, 1528.15, 1524.18, 1517.89, 1509.33, 1513.7, 1515.15], [1722.66, 1686.67, 1656.78, 1596.26, 1572.25, 1552.94, 1541.08, 1529.04, 1526.31, 1524.98, 1523.33, 1520.07, 1515.29, 1515.31, 1515.95], [1592.87, 1586.24, 1572.76, 1563.68, 1551.97, 1541.12, 1530.47, 1516.69, 1522.33, 1523.28, 1522.74, 1521.1, 1518.76, 1517.34, 1517.35], [1546.04, 1549.17, 1551.42, 1546.24, 1541.23, 1536.45, 1529.4, 1522.43, 1522.8, 1523.0, 1522.5, 1521.42, 1520.15, 1518.72, 1518.19], [1529.96, 1532.07, 1536.4, 1536.24, 1534.15, 1531.67, 1527.66, 1524.29, 1523.33, 1523.13, 1522.85, 1522.25, 1521.12, 1519.3, 1518.3], [1527.51, 1527.17, 1528.73, 1529.44, 1529.3, 1527.51, 1525.65, 1524.18, 1523.36, 1523.18, 1523.08, 1522.85, 1521.82, 1518.49, 1516.32], [1525.64, 1525.49, 1524.57, 1523.9, 1523.95, 1523.32, 1522.82, 1522.82, 1522.89, 1523.04, 1523.1, 1522.93, 1521.01, 1516.12, 1512.98], [1523.23, 1523.12, 1521.59, 1519.55, 1518.79, 1519.07, 1519.8, 1521.26, 1522.24, 1522.8, 1522.99, 1522.63, 1520.28, 1515.24, 1508.82], [1521.74, 1521.12, 1517.54, 1513.36, 1514.33, 1516.17, 1517.29, 1519.48, 1521.31, 1522.42, 1523.27, 1523.16, 1520.8, 1516.32, 1512.92], [1520.7, 1518.21, 1512.1, 1506.23, 1510.6, 1514.25, 1516.03, 1518.18, 1520.48, 1522.37, 1523.99, 1523.57, 1520.88, 1517.37, 1514.95]]\n"
     ]
    }
   ],
   "source": [
    "# with open(\"H:\\\\Lab_Meeting\\\\Simulation_Model\\\\2D_15-by-15_DQN\\\\2D_15-by-15_DQN_Filetest\\\\2D_JY_ECLRUN_1.PRT\", 'r') as file_read:\n",
    "#     line = file_read.readline()\n",
    "#     print(line)\n",
    "#     while not line.startswith(f\"  PRESSURE AT   {120*1}\"):\n",
    "#         line = file_read.readline()\n",
    "#     for i in range(1,10+1):\n",
    "#         line = file_read.readline()\n",
    "#     print(line)\n",
    "#\n",
    "#     line_temp = []\n",
    "#     lines_converted = []\n",
    "#     for i in range(1, 15+1):\n",
    "#         # line_temp = [element.strip() for element in line.split()]\n",
    "#         lines_converted.append([element.strip() for element in line.split()][3::])\n",
    "#         line = file_read.readline()\n",
    "#     print(lines_converted)\n",
    "# print(f\"  PRESSURE AT   {120*1}\")\n",
    "\n",
    "################################# Reading Dynamic Data #################################\n",
    "# idx: simulation file index\n",
    "# tstep_idx: simulation time step index\n",
    "# filename: simulation file name\n",
    "# dynamic_type: dynamic data type to collect ('PRESSURE' or 'SOIL')\n",
    "def _read_ecl_prt(args, idx: int, tstep_idx: int, filename: str, dynamic_type: str) -> list:\n",
    "    # Check if dynamic type input is (1) 'PRESSURE', (2) 'SOIL'\n",
    "    if not dynamic_type in ['PRESSURE', 'SOIL']:\n",
    "        print(\"Assign correct dynamic data output type!: 'PRESSURE', 'SOIL'\")\n",
    "        return -1\n",
    "\n",
    "    # File IO\n",
    "    # 1. Open .PRT file\n",
    "    with open(args.simulation_directory+'\\\\'+filename+'_'+str(idx)+'.PRT') as file_read:\n",
    "        line = file_read.readline()\n",
    "        if dynamic_type == 'PRESSURE':\n",
    "            # 2. Fine the location of dynamic data (PRESSURE case)\n",
    "            while not line.startswith(f\"  {dynamic_type} AT   {args.time_step * tstep_idx}\"):\n",
    "                line = file_read.readline()\n",
    "            # 3. Dynamic data is located at 10th line below the line [\"  {dynamic_type} AT   {args.time_step * tstep_idx}\"]\n",
    "            for i in range(1,10+1):\n",
    "                line = file_read.readline()\n",
    "            # 4. Collect dynamic data\n",
    "            lines_converted = []\n",
    "            for i in range(1, args.gridnum_y+1):\n",
    "                lines_converted.append([element.strip() for element in line.split()][3::])\n",
    "                line = file_read.readline()\n",
    "        elif dynamic_type == 'SOIL':\n",
    "            # 2. Fine the location of dynamic data (SOIL case)\n",
    "            while not line.startswith(f\"  {dynamic_type}     AT   {args.time_step * tstep_idx}\"):\n",
    "                line = file_read.readline()\n",
    "            # 3. Dynamic data is located at 10th line below the line [\"  {dynamic_type} AT   {args.time_step * tstep_idx}\"]\n",
    "            for i in range(1,10+1):\n",
    "                line = file_read.readline()\n",
    "            # 4. Collect dynamic data\n",
    "            lines_converted = []\n",
    "            for i in range(1, args.gridnum_y+1):\n",
    "                lines_converted.append([element.strip() for element in line.split()][3::])\n",
    "                line = file_read.readline()\n",
    "\n",
    "    # 5. Post-processing (String replacement from (1) '*' to '.', (2) String to Float)\n",
    "    for i in range(len(lines_converted)):\n",
    "        for j in range(len(lines_converted[i])):\n",
    "            lines_converted[i][j] = float(lines_converted[i][j].replace('*', '.'))\n",
    "\n",
    "    return lines_converted\n",
    "\n",
    "\n",
    "test = _read_ecl_prt(args, 1, 2, '2D_JY_ECLRUN', 'PRESSURE')\n",
    "print(test)\n",
    "\n",
    "# print(test)"
   ],
   "metadata": {
    "collapsed": false,
    "ExecuteTime": {
     "start_time": "2023-05-05T09:41:44.245740Z",
     "end_time": "2023-05-05T09:41:44.320757Z"
    }
   }
  },
  {
   "cell_type": "code",
   "execution_count": 28,
   "outputs": [
    {
     "name": "stdout",
     "output_type": "stream",
     "text": [
      "15\n",
      "15\n",
      "15\n",
      "15\n",
      "15\n",
      "15\n",
      "15\n",
      "15\n",
      "15\n",
      "15\n",
      "15\n",
      "15\n",
      "15\n",
      "15\n",
      "15\n"
     ]
    }
   ],
   "source": [
    "for i in range(0,15):\n",
    "    print(len(test[i]))"
   ],
   "metadata": {
    "collapsed": false,
    "ExecuteTime": {
     "start_time": "2023-05-05T09:41:57.025320Z",
     "end_time": "2023-05-05T09:41:57.098336Z"
    }
   }
  },
  {
   "cell_type": "code",
   "execution_count": 34,
   "outputs": [
    {
     "name": "stdout",
     "output_type": "stream",
     "text": [
      "[0.0, 0.0, 0.0, 0.0, 0.0]\n"
     ]
    }
   ],
   "source": [
    "def _read_ecl_rsm(args, idx: int, filename: str, data_type: str) -> list:\n",
    "    # Check if data type input is (1) 'FOPT', (2) 'FWPT', (3) 'FWIT'\n",
    "    if not data_type in ['FOPT', 'FWPT', 'FWIT']:\n",
    "        print(\"Assign correct output data type!: 'FOPT', 'FWPT', 'FWIT'\")\n",
    "        return -1\n",
    "\n",
    "    # File IO\n",
    "    # 1. Open .RSM file\n",
    "    with open(args.simulation_directory+'\\\\'+filename+'_'+str(idx)+'.RSM') as file_read:\n",
    "        line = file_read.readline()\n",
    "        # 2. Fine the location of dynamic data (PRESSURE case)\n",
    "        while not line.startswith(f\" TIME\"):\n",
    "            line = file_read.readline()\n",
    "        # 3. RSM data is located at 6th line below the line [\" TIME\"]\n",
    "        for i in range(1,5+1+1):\n",
    "            line = file_read.readline()\n",
    "        # 4. Collect production or injection data\n",
    "        lines_converted = []\n",
    "        if data_type == 'FOPT':\n",
    "            for i in range(1, round(args.total_production_time/args.time_step)+1):\n",
    "                lines_converted.append([element.strip() for element in line.split()][2])\n",
    "                line = file_read.readline()\n",
    "        elif data_type == 'FWPT':\n",
    "            for i in range(1, round(args.total_production_time/args.time_step)+1):\n",
    "                lines_converted.append([element.strip() for element in line.split()][3])\n",
    "                line = file_read.readline()\n",
    "        elif data_type == 'FWIT':\n",
    "            for i in range(1, round(args.total_production_time/args.time_step)+1):\n",
    "                lines_converted.append([element.strip() for element in line.split()][4])\n",
    "                line = file_read.readline()\n",
    "\n",
    "    # 5. Post-processing (String replacement from (1) '*' to '.', (2) String to Float, only for 2D)\n",
    "    for i in range(len(lines_converted)):\n",
    "        lines_converted[i] = float(lines_converted[i].replace('*', '.'))\n",
    "\n",
    "    return lines_converted\n",
    "\n",
    "test = _read_ecl_rsm(args, 1, '2D_JY_ECLRUN', 'FWIT')\n",
    "print(test)"
   ],
   "metadata": {
    "collapsed": false,
    "ExecuteTime": {
     "start_time": "2023-05-05T09:48:24.917223Z",
     "end_time": "2023-05-05T09:48:25.003564Z"
    }
   }
  },
  {
   "cell_type": "code",
   "execution_count": 40,
   "outputs": [
    {
     "data": {
      "text/plain": "[[0.04384519111888324, 0.053552637364663785, 0.06540933898395172],\n [0.07989114704443215, 0.09757926735264912, 0.11918358628377426],\n [0.14557116101442247, 0.17780101757159375, 0.21716665326562945]]"
     },
     "execution_count": 40,
     "metadata": {},
     "output_type": "execute_result"
    }
   ],
   "source": [
    "import numpy as np\n",
    "from copy import deepcopy\n",
    "def Boltzmann_policy(args, Q_value: list, well_placement: list) -> list:\n",
    "    exp_tau = deepcopy(Q_value)\n",
    "    probability = deepcopy(Q_value)\n",
    "\n",
    "    # Preventing overflow error\n",
    "    max_Q_value = np.array(Q_value).flatten().max()\n",
    "\n",
    "    # Get exponential of all elements in Q_value\n",
    "    for i in range(0, len(Q_value)):\n",
    "        for j in range(0, len(Q_value[i])):\n",
    "            exp_tau[i][j] = np.exp((exp_tau[i][j]-max_Q_value)/args.boltzmann_tau)\n",
    "\n",
    "    # Calculating probability map\n",
    "    for i in range(0, len(Q_value)):\n",
    "        for j in range(0, len(Q_value[i])):\n",
    "            probability[i][j] = exp_tau[i][j] / np.concatenate(np.array(exp_tau)).sum()\n",
    "\n",
    "    # Masking well placement map\n",
    "    probability = [[0 if well_placement[i][j] != 0 else probability[i][j] for j in range(len(Q_value[i]))] for i in range(len(Q_value))]\n",
    "    probability = [[(probability[i][j]/np.concatenate(np.array(probability)).sum()) for j in range(len(Q_value[i]))] for i in range(len(Q_value))]\n",
    "\n",
    "    return probability\n",
    "\n",
    "test = Boltzmann_policy(args, [[1,2,3],[4,5,6],[7,8,9]], [[0,0,0],[1,0,1],[0,0,1]])\n",
    "test"
   ],
   "metadata": {
    "collapsed": false,
    "ExecuteTime": {
     "start_time": "2023-05-05T16:58:35.829000Z",
     "end_time": "2023-05-05T16:58:35.929022Z"
    }
   }
  },
  {
   "cell_type": "code",
   "execution_count": 13,
   "outputs": [
    {
     "ename": "TypeError",
     "evalue": "unsupported operand type(s) for /: 'list' and 'int'",
     "output_type": "error",
     "traceback": [
      "\u001B[1;31m---------------------------------------------------------------------------\u001B[0m",
      "\u001B[1;31mTypeError\u001B[0m                                 Traceback (most recent call last)",
      "Cell \u001B[1;32mIn[13], line 1\u001B[0m\n\u001B[1;32m----> 1\u001B[0m test \u001B[38;5;241m=\u001B[39m \u001B[43m(\u001B[49m\u001B[43m[\u001B[49m\u001B[43m[\u001B[49m\u001B[38;5;241;43m11\u001B[39;49m\u001B[43m,\u001B[49m\u001B[38;5;241;43m2\u001B[39;49m\u001B[43m,\u001B[49m\u001B[38;5;241;43m3\u001B[39;49m\u001B[43m]\u001B[49m\u001B[43m,\u001B[49m\u001B[43m[\u001B[49m\u001B[38;5;241;43m4\u001B[39;49m\u001B[43m,\u001B[49m\u001B[38;5;241;43m5\u001B[39;49m\u001B[43m,\u001B[49m\u001B[38;5;241;43m6\u001B[39;49m\u001B[43m]\u001B[49m\u001B[43m,\u001B[49m\u001B[43m[\u001B[49m\u001B[38;5;241;43m7\u001B[39;49m\u001B[43m,\u001B[49m\u001B[38;5;241;43m8\u001B[39;49m\u001B[43m,\u001B[49m\u001B[38;5;241;43m9\u001B[39;49m\u001B[43m]\u001B[49m\u001B[43m]\u001B[49m\u001B[43m)\u001B[49m\u001B[38;5;241;43m/\u001B[39;49m\u001B[38;5;241;43m2\u001B[39;49m\n",
      "\u001B[1;31mTypeError\u001B[0m: unsupported operand type(s) for /: 'list' and 'int'"
     ]
    }
   ],
   "source": [
    "test = ([[11,2,3],[4,5,6],[7,8,9]])/2"
   ],
   "metadata": {
    "collapsed": false
   }
  },
  {
   "cell_type": "code",
   "execution_count": null,
   "outputs": [],
   "source": [],
   "metadata": {
    "collapsed": false
   }
  }
 ],
 "metadata": {
  "kernelspec": {
   "display_name": "RL_env",
   "language": "python",
   "name": "python3"
  },
  "language_info": {
   "codemirror_mode": {
    "name": "ipython",
    "version": 3
   },
   "file_extension": ".py",
   "mimetype": "text/x-python",
   "name": "python",
   "nbconvert_exporter": "python",
   "pygments_lexer": "ipython3",
   "version": "3.10.11"
  },
  "orig_nbformat": 4
 },
 "nbformat": 4,
 "nbformat_minor": 2
}
