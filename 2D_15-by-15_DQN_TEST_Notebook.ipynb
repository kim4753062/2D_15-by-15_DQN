{
 "cells": [
  {
   "cell_type": "code",
   "execution_count": 1,
   "outputs": [],
   "source": [
    "import copy\n",
    "import numpy as np\n",
    "from collections import deque\n",
    "import os.path\n",
    "import shutil\n",
    "import pickle\n",
    "import dill\n",
    "\n",
    "import argparse\n",
    "import torch\n",
    "import torch.nn as nn\n",
    "import torch.optim as optim\n",
    "import torch.nn.functional as F\n",
    "from torch.utils.data import Dataset, DataLoader\n",
    "\n",
    "import random\n",
    "import numpy.random\n",
    "import torch.random\n",
    "\n",
    "from datetime import datetime\n",
    "\n",
    "from copy import deepcopy\n",
    "\n",
    "import warnings\n",
    "warnings.filterwarnings(action='ignore')"
   ],
   "metadata": {
    "collapsed": false,
    "ExecuteTime": {
     "end_time": "2023-07-09T04:14:15.134903600Z",
     "start_time": "2023-07-09T04:14:13.699578900Z"
    }
   }
  },
  {
   "cell_type": "code",
   "execution_count": 4,
   "outputs": [],
   "source": [
    "# Modified from J.Y. Kim. (2020)\n",
    "args.master_directory = os.getcwd()\n",
    "args.basicfilepath = 'data'\n",
    "args.simulation_directory = 'simulation'\n",
    "args.variable_save_directory = 'variables'\n",
    "args.deeplearningmodel_save_directory = 'model'\n",
    "args.ecl_filename = '2D_ECL'\n",
    "args.perm_filename = 'PERMX'\n",
    "args.well_filename = 'WELL'\n",
    "\n",
    "# args.total_episode = 100\n",
    "args.learning_rate = 0.1  # Learning rate Alpha\n",
    "# args.boltzmann_tau_start = 5.0  # Start value of Temperature parameter at Boltzmann policy, Tau\n",
    "args.boltzmann_tau_start = 8.0  # Start value of Temperature parameter at Boltzmann policy, Tau\n",
    "args.boltzmann_tau_end = 0.1  # End value of Temperature parameter at Boltzmann policy, Tau\n",
    "args.boltzmann_tau_tracker = [args.boltzmann_tau_start]\n",
    "# args.total_reward = 0\n",
    "args.epsilon = 0.1\n",
    "\n",
    "# For Implementation\n",
    "args.max_iteration = 50 # Maximum iteration num. of algorithm, MAX_STEPS\n",
    "args.sample_num_per_iter = 50 # Simulation sample num. of each iteration of algorithm\n",
    "args.experience_num_per_iter = 250 # Experience sample num. of each iteration of algorithm, h\n",
    "args.replay_batch_num = 16 # Replay batch num., B\n",
    "args.nn_update_num = 1 # CNN update number, U: [(1) Constant num. of iteration], (2) Lower limit of loss function value\n",
    "args.batch_size = 32 # Batch size, N\n",
    "args.replay_memory_size = 1000 # Replay memory size, K\n",
    "\n",
    "# # For Debugging\n",
    "# args.max_iteration = 5  # Maximum iteration num. of algorithm, MAX_STEPS\n",
    "# args.sample_num_per_iter = 3  # Simulation sample num. of each iteration of algorithm\n",
    "# args.experience_num_per_iter = 15  # Experience sample num. of each iteration of algorithm, h\n",
    "# args.replay_batch_num = 4  # Replay batch num., B\n",
    "# args.nn_update_num = 4  # CNN update number, U: [(1) Constant num. of iteration], (2) Lower limit of loss function value\n",
    "# args.batch_size = 8  # Batch size, N\n",
    "# args.replay_memory_size = 30  # Replay memory size, K\n",
    "\n",
    "args.gridnum_x = 15\n",
    "args.gridnum_y = 15\n",
    "args.gridsize_x = 120  # ft\n",
    "args.gridsize_y = 120  # ft\n",
    "\n",
    "args.time_step = 120  # days\n",
    "args.total_production_time = 600  # days\n",
    "\n",
    "args.prod_well_num_max = 5\n",
    "args.inj_well_num_max = 0\n",
    "args.total_well_num_max = args.prod_well_num_max + args.inj_well_num_max\n",
    "\n",
    "args.initial_PRESSURE = 3500  # psi\n",
    "args.initial_SOIL = 0.75\n",
    "\n",
    "# 2023-05-02: For reproduction\n",
    "args.random_seed = 202022673\n",
    "random.seed(args.random_seed)\n",
    "np.random.seed(args.random_seed)\n",
    "torch.manual_seed(args.random_seed)\n",
    "\n",
    "# For calculation of revenue at each time step\n",
    "args.oil_price = 60  # $/bbl\n",
    "args.water_treatment = 3  # $/bbl\n",
    "args.water_injection = 5  # $/bbl\n",
    "\n",
    "# State: Pressure distribution, Oil saturation, Well placement map\n",
    "\n",
    "# Action: Well placement (Coordinate of well location)\n",
    "\n",
    "# Environment: Reservoir simulator\n",
    "\n",
    "# Reward: NPV at each time segment\n",
    "\n",
    "args.discount_rate = 0.1  # Used for calculation of NPV\n",
    "args.discount_factor = 1  # Used for Q-value update\n",
    "\n",
    "# Data for State\n",
    "args.input_flag = ('PRESSURE', 'SOIL', 'Well_placement')"
   ],
   "metadata": {
    "collapsed": false,
    "ExecuteTime": {
     "end_time": "2023-07-09T04:15:23.095805800Z",
     "start_time": "2023-07-09T04:15:23.085803600Z"
    }
   }
  },
  {
   "cell_type": "code",
   "execution_count": 18,
   "outputs": [
    {
     "name": "stdout",
     "output_type": "stream",
     "text": [
      "[(6, 4), (10, 5), (12, 7), (4, 7), (8, 3)]\n"
     ]
    }
   ],
   "source": [
    "################################### Class: Placement sample #################################### Certified\n",
    "# WellPlacementSample Class contains information of One full sequence of simulation sample.\n",
    "class WellPlacementSample:\n",
    "    def __init__(self, args):\n",
    "        self.args = args\n",
    "        self.well_loc_map = [[[0 for i in range(0, args.gridnum_x)] for j in range(0, args.gridnum_y)]]\n",
    "        self.well_loc_list = []\n",
    "        self.PRESSURE_map = [[[args.initial_PRESSURE for i in range(0, args.gridnum_x)] for j in range(0, args.gridnum_y)]]\n",
    "        self.SOIL_map = [[[args.initial_SOIL for i in range(0, args.gridnum_x)] for j in range(0, args.gridnum_y)]]\n",
    "        self.income = []\n",
    "\n",
    "################################### Class: Experience sample ################################### Certified\n",
    "# Experience Class contains One set of (s, a, r, s').\n",
    "class Experience:\n",
    "    def __init__(self, args):\n",
    "        self.args = args\n",
    "        self.current_state = list\n",
    "        self.current_action = None\n",
    "        self.reward = None\n",
    "        self.next_state = list\n",
    "\n",
    "    def __transform__(self):\n",
    "        self.current_state = torch.tensor(data=self.current_state, dtype=torch.float, device=self.args.device, requires_grad=False)\n",
    "        self.current_action = torch.tensor(data=self.current_action, dtype=torch.float, device=self.args.device, requires_grad=False)\n",
    "        self.reward = torch.tensor(data=self.reward, dtype=torch.float, device=self.args.device, requires_grad=False)\n",
    "        self.next_state = torch.tensor(data=self.next_state, dtype=torch.float, device=self.args.device, requires_grad=False)\n",
    "\n",
    "    def transform(self):\n",
    "        self.__transform__()\n",
    "\n",
    "\n",
    "###################### Class: Experience sample (Dataset for DataLoader) ####################### Certified\n",
    "class Experience_list(Dataset):\n",
    "    def __init__(self, args):\n",
    "        self.args = args\n",
    "        self.exp_list = deque()\n",
    "\n",
    "    def __len__(self):\n",
    "        return len(self.exp_list)\n",
    "\n",
    "    def __getitem__(self, idx):\n",
    "        return self.exp_list[idx].current_state\n",
    "\n",
    "well_placement_sample = WellPlacementSample(args=args)\n",
    "\n",
    "# if os.path.exists(os.path.join(args.simulation_directory, f\"Step{algorithm_iter_count}_Sample{sample_num}\"), f\"{args.ecl_filename}_SAM{sample_num}_SEQ{args.total_well_num_max}.PRT\"):\n",
    "if os.path.exists(os.path.join(args.simulation_directory, f\"Step1_Sample1\", f\"{args.ecl_filename}_SAM1_SEQ5.PRT\")):\n",
    "    well_loc_list_from_simulation = []\n",
    "\n",
    "    with open(os.path.join(args.simulation_directory, f\"Step1_Sample1\", f\"WELL_Sam1_Seq5.DATA\")) as file_read:\n",
    "        line = file_read.readline()\n",
    "        for time_step in range(0, args.total_well_num_max):\n",
    "            line = file_read.readline()\n",
    "            line = file_read.readline()\n",
    "            line_list = [element.strip() for element in line.split()]\n",
    "            well_loc = (int(line_list[2]), int(line_list[3]))\n",
    "            well_loc_list_from_simulation.append(well_loc)\n",
    "            if time_step == args.total_well_num_max-1:\n",
    "                break\n",
    "            while not line.startswith(\"--WELL\"):\n",
    "                line = file_read.readline()\n",
    "\n",
    "    for time_step in range(0, args.total_well_num_max):\n",
    "        well_placement_sample.well_loc_list.append(well_loc_list_from_simulation[time_step])\n",
    "\n",
    "print(well_placement_sample.well_loc_list)\n"
   ],
   "metadata": {
    "collapsed": false,
    "ExecuteTime": {
     "end_time": "2023-07-09T02:54:27.855146Z",
     "start_time": "2023-07-09T02:54:27.844639900Z"
    }
   }
  },
  {
   "cell_type": "code",
   "execution_count": 6,
   "outputs": [],
   "source": [
    "os.getcwd()\n",
    "os.chdir(\"..\\\\..\\\\\")"
   ],
   "metadata": {
    "collapsed": false,
    "ExecuteTime": {
     "end_time": "2023-07-09T02:38:15.180657900Z",
     "start_time": "2023-07-09T02:38:15.170655600Z"
    }
   }
  },
  {
   "cell_type": "code",
   "execution_count": 6,
   "outputs": [
    {
     "data": {
      "text/plain": "'J:\\\\Lab_Meeting\\\\Simulation\\\\2D_15-by-15_DQN'"
     },
     "execution_count": 6,
     "metadata": {},
     "output_type": "execute_result"
    }
   ],
   "source": [
    "os.getcwd()"
   ],
   "metadata": {
    "collapsed": false,
    "ExecuteTime": {
     "end_time": "2023-07-09T02:40:00.069465800Z",
     "start_time": "2023-07-09T02:40:00.064464900Z"
    }
   }
  },
  {
   "cell_type": "code",
   "execution_count": 14,
   "outputs": [
    {
     "name": "stdout",
     "output_type": "stream",
     "text": [
      "False\n",
      "(6, 4)\n",
      "--WELL #2\n",
      "\n"
     ]
    }
   ],
   "source": [
    "with open(os.path.join(args.simulation_directory, f\"Step1_Sample1\", f\"WELL_Sam1_Seq5.DATA\")) as file_read:\n",
    "    line = file_read.readline()\n",
    "    line = file_read.readline()\n",
    "    line = file_read.readline()\n",
    "    print(line.startswith(\"--WELL\"))\n",
    "    line_list = [element.strip() for element in line.split()]\n",
    "    well_loc = (int(line_list[2]), int(line_list[3]))\n",
    "    print(well_loc)\n",
    "    while not line.startswith(\"--WELL\"):\n",
    "        line = file_read.readline()\n",
    "    print(line)"
   ],
   "metadata": {
    "collapsed": false,
    "ExecuteTime": {
     "end_time": "2023-07-09T02:43:38.944456600Z",
     "start_time": "2023-07-09T02:43:38.940455900Z"
    }
   }
  },
  {
   "cell_type": "code",
   "execution_count": 7,
   "outputs": [
    {
     "name": "stdout",
     "output_type": "stream",
     "text": [
      "8.0\n",
      "8.0\n",
      "7.958819162899189\n",
      "7.9167891768143885\n",
      "7.8738742842227\n",
      "7.830036420319526\n",
      "7.785235010141451\n",
      "7.739426742888523\n",
      "7.692565320300054\n",
      "7.644601175419832\n",
      "7.595481157468322\n",
      "7.545148177799024\n",
      "7.493540811025635\n",
      "7.440592844331123\n",
      "7.386232766664588\n",
      "7.330383187940474\n",
      "7.2729601764044665\n",
      "7.2138724999277635\n",
      "7.15302075401461\n",
      "7.0902963555980465\n",
      "7.0255803770459195\n",
      "6.958742188925109\n",
      "6.889637872603591\n",
      "6.81810835420349\n",
      "6.743977199066561\n",
      "6.667047989809294\n",
      "6.5871011899097445\n",
      "6.503890366724133\n",
      "6.417137610229272\n",
      "6.326527932798269\n",
      "6.2317023653295776\n",
      "6.132249367708768\n",
      "6.027694034240869\n",
      "5.9174843778502195\n",
      "5.80097368983751\n",
      "5.677397545507791\n",
      "5.545843378834856\n",
      "5.4052095441132355\n",
      "5.25414917971904\n",
      "5.090991556633878\n",
      "4.913629122708015\n",
      "4.719350557618514\n",
      "4.504585567759966\n",
      "4.264498735417537\n",
      "3.9923107340229813\n",
      "3.6780927465436237\n",
      "3.306451747528259\n",
      "2.851599925327282\n",
      "2.2651939364533695\n",
      "1.438701115237028\n",
      "0.025802305146773764\n"
     ]
    }
   ],
   "source": [
    "print(args.boltzmann_tau_start)\n",
    "\n",
    "for m in range(1, args.max_iteration + 1):\n",
    "    # Decrease tau (temperature parameter of Boltzmann policy)\n",
    "    args.tau = ((args.boltzmann_tau_start - args.boltzmann_tau_end) * np.log(args.max_iteration + 1 - m) + args.boltzmann_tau_end) / ((args.boltzmann_tau_start - args.boltzmann_tau_end) * np.log(args.max_iteration) + args.boltzmann_tau_end) * args.boltzmann_tau_start\n",
    "    # Tracking variation of tau\n",
    "    args.boltzmann_tau_tracker.append(args.tau)\n",
    "    print(args.tau)"
   ],
   "metadata": {
    "collapsed": false,
    "ExecuteTime": {
     "end_time": "2023-07-09T04:16:39.689707200Z",
     "start_time": "2023-07-09T04:16:39.670702600Z"
    }
   }
  },
  {
   "cell_type": "code",
   "execution_count": 9,
   "outputs": [
    {
     "ename": "TypeError",
     "evalue": "unsupported operand type(s) for /: 'list' and 'int'",
     "output_type": "error",
     "traceback": [
      "\u001B[1;31m---------------------------------------------------------------------------\u001B[0m",
      "\u001B[1;31mTypeError\u001B[0m                                 Traceback (most recent call last)",
      "Cell \u001B[1;32mIn[9], line 1\u001B[0m\n\u001B[1;32m----> 1\u001B[0m \u001B[43m[\u001B[49m\u001B[38;5;241;43m1\u001B[39;49m\u001B[43m,\u001B[49m\u001B[38;5;241;43m2\u001B[39;49m\u001B[43m,\u001B[49m\u001B[38;5;241;43m3\u001B[39;49m\u001B[43m]\u001B[49m\u001B[38;5;241;43m/\u001B[39;49m\u001B[38;5;241;43m2\u001B[39;49m\n",
      "\u001B[1;31mTypeError\u001B[0m: unsupported operand type(s) for /: 'list' and 'int'"
     ]
    }
   ],
   "source": [
    "[1,2,3]/2"
   ],
   "metadata": {
    "collapsed": false,
    "ExecuteTime": {
     "end_time": "2023-07-09T04:35:24.225673100Z",
     "start_time": "2023-07-09T04:35:24.173662300Z"
    }
   }
  },
  {
   "cell_type": "code",
   "execution_count": null,
   "outputs": [],
   "source": [],
   "metadata": {
    "collapsed": false
   }
  }
 ],
 "metadata": {
  "kernelspec": {
   "display_name": "RL_env",
   "language": "python",
   "name": "python3"
  },
  "language_info": {
   "codemirror_mode": {
    "name": "ipython",
    "version": 3
   },
   "file_extension": ".py",
   "mimetype": "text/x-python",
   "name": "python",
   "nbconvert_exporter": "python",
   "pygments_lexer": "ipython3",
   "version": "3.10.11"
  },
  "orig_nbformat": 4
 },
 "nbformat": 4,
 "nbformat_minor": 2
}
