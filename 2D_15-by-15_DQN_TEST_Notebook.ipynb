{
 "cells": [
  {
   "cell_type": "code",
   "execution_count": 2,
   "outputs": [],
   "source": [
    "import copy\n",
    "# Import required modules\n",
    "%load_ext autoreload\n",
    "%autoreload 2\n",
    "\n",
    "import numpy as np\n",
    "import os.path\n",
    "import pickle\n",
    "\n",
    "import argparse\n",
    "import torch\n",
    "\n",
    "import random\n",
    "import numpy.random\n",
    "import torch.random\n",
    "\n",
    "from datetime import datetime\n",
    "\n",
    "import warnings\n",
    "warnings.filterwarnings(action='ignore')"
   ],
   "metadata": {
    "collapsed": false,
    "ExecuteTime": {
     "end_time": "2023-05-10T03:09:32.764129800Z",
     "start_time": "2023-05-10T03:09:31.028464400Z"
    }
   }
  },
  {
   "cell_type": "code",
   "execution_count": 6,
   "outputs": [],
   "source": [
    "# Define arguments\n",
    "parser = argparse.ArgumentParser()\n",
    "args, unknown = parser.parse_known_args()\n",
    "\n",
    "# 2023-05-02\n",
    "# For Using GPU (CUDA)\n",
    "args.device = torch.device('cuda' if torch.cuda.is_available() else 'cpu')\n",
    "\n",
    "# 2023-05-02\n",
    "# For using tensorboard\n",
    "args.istensorboard = False\n",
    "\n",
    "'''\n",
    "Directory setting: ([]: Folder)\n",
    "- [Master directory] (Prerequisite directory)\n",
    "-- Algorithm launcher code (.py, .ipynb, ...) (Prerequisite file)\n",
    "-- [Basic simulation data directory] (data) (Prerequisite directory)\n",
    "--- Simulation data template (Current simulator type: Eclipse, .DATA) (Prerequisite file)\n",
    "--- Simulation permeability set file (.mat, .DATA, ...) (Prerequisite file)\n",
    "-- [Simulation directory] (simulation)\n",
    "--- [Simulation sample directory #f\"Step{num. of algorithm iteration}_Sample{sample number}\"]\n",
    "---- Simulation data file (.DATA): for each Well placement timestep\n",
    "---- Simulation include file (PERMX.DATA, WELL.DATA)\n",
    "---- # File naming convention: f\"{file type}_Sam{sample number}_Seq{timestep index}.DATA\"\n",
    "-- [Variable storage directory] (variables)\n",
    "--- Variable storage.pkl\n",
    "--- Global variable storage.dill\n",
    "-- [Deep learning model storage directory] (model)\n",
    "--- Deep learning model.pkl\n",
    "'''\n",
    "# Modified from J.Y. Kim. (2020)\n",
    "args.master_directory = os.getcwd()\n",
    "args.basicfilepath = 'data'\n",
    "args.simulation_directory = 'simulation'\n",
    "args.variable_save_directory = 'variables'\n",
    "args.deeplearningmodel_save_directory = 'model'\n",
    "args.ecl_filename = '2D_ECL'\n",
    "args.perm_filename = 'PERMX'\n",
    "args.well_filename = 'WELL'\n",
    "\n",
    "args.total_episode = 100\n",
    "args.learning_rate = 0.1 # Learning rate Alpha\n",
    "args.boltzmann_tau = 5.0 # Temperature parameter at Boltzmann policy, Tau\n",
    "args.total_reward = 0\n",
    "args.epsilon = 0.1\n",
    "\n",
    "args.max_iteration = 50 # Maximum iteration num. of algorithm, MAX_STEPS\n",
    "args.sample_num_per_iter = 50 # Simulation sample num. of each iteration of algorithm\n",
    "args.replay_batch = 100 # Replay batch size, B\n",
    "args.nn_update_num = 20 # CNN update number, U: [(1) Constant num. of iteration], (2) Lower limit of loss function value\n",
    "args.batch_size = 20 # Batch size, N\n",
    "args.replay_memory = [] # (1) Using list class, (2) Replay memory class by SLM Lab (page. 105~108)\n",
    "\n",
    "args.gridnum_x = 15\n",
    "args.gridnum_y = 15\n",
    "args.gridsize_x = 120 # ft\n",
    "args.gridsize_y = 120 # ft\n",
    "\n",
    "args.time_step = 120 # days\n",
    "args.total_production_time = 600 # days\n",
    "\n",
    "args.prod_well_num_max = 5\n",
    "args.inj_well_num_max = 0\n",
    "args.total_well_num_max = args.prod_well_num_max + args.inj_well_num_max\n",
    "\n",
    "args.initial_PRESSURE = 3500 # psi\n",
    "args.initial_SOIL = 0.75\n",
    "\n",
    "# 2023-05-02: For reproduction\n",
    "args.random_seed = 202022673\n",
    "random.seed(args.random_seed)\n",
    "np.random.seed(args.random_seed)\n",
    "torch.manual_seed(args.random_seed)\n",
    "\n",
    "# For calculation of revenue at each time step\n",
    "args.oil_price = 60 # $/bbl\n",
    "args.water_treatment = 3 # $/bbl\n",
    "args.water_injection = 5 # $/bbl\n",
    "\n",
    "# State: Pressure distribution, Oil saturation, (and Well placement map?)\n",
    "\n",
    "# Action: Well placement (Coordinate of well location)\n",
    "\n",
    "# Environment: Reservoir simulator\n",
    "\n",
    "# Reward: NPV at each time segment\n",
    "\n",
    "args.discount_rate = 0.1 # Used for calculation of NPV\n",
    "args.discount_factor = 1 # Used for Q-value update\n",
    "\n",
    "# Data for State\n",
    "args.input_flag = ('PRESSURE', 'SOIL', 'Well_placement')"
   ],
   "metadata": {
    "collapsed": false,
    "ExecuteTime": {
     "end_time": "2023-05-10T03:10:51.556160700Z",
     "start_time": "2023-05-10T03:10:51.480143400Z"
    }
   }
  },
  {
   "cell_type": "code",
   "execution_count": 27,
   "outputs": [
    {
     "name": "stdout",
     "output_type": "stream",
     "text": [
      "[[2150.96, 2097.01, 2029.83, 1890.89, 1706.59, 1814.43, 1956.97, 2125.1, 2131.02, 1965.12, 1670.66, 1557.06, 1534.02, 1527.14, 1526.33], [2082.75, 2057.76, 2008.36, 1911.3, 1823.34, 1829.44, 1861.85, 1891.1, 1844.18, 1707.45, 1622.87, 1553.2, 1530.66, 1525.75, 1524.83], [2034.26, 2013.03, 1962.96, 1897.48, 1840.44, 1794.8, 1765.94, 1755.4, 1688.11, 1623.46, 1575.18, 1542.8, 1526.04, 1522.34, 1521.65], [1978.57, 1963.81, 1902.62, 1857.74, 1774.76, 1708.74, 1679.76, 1642.79, 1588.35, 1554.03, 1539.91, 1528.95, 1520.24, 1518.68, 1518.73], [1919.54, 1882.45, 1824.01, 1780.28, 1671.76, 1639.07, 1602.81, 1571.47, 1544.92, 1535.05, 1528.63, 1521.42, 1515.54, 1516.11, 1516.71], [1844.56, 1794.12, 1772.03, 1689.65, 1606.7, 1580.54, 1556.19, 1542.33, 1532.93, 1528.15, 1524.18, 1517.89, 1509.33, 1513.7, 1515.15], [1722.66, 1686.67, 1656.78, 1596.26, 1572.25, 1552.94, 1541.08, 1529.04, 1526.31, 1524.98, 1523.33, 1520.07, 1515.29, 1515.31, 1515.95], [1592.87, 1586.24, 1572.76, 1563.68, 1551.97, 1541.12, 1530.47, 1516.69, 1522.33, 1523.28, 1522.74, 1521.1, 1518.76, 1517.34, 1517.35], [1546.04, 1549.17, 1551.42, 1546.24, 1541.23, 1536.45, 1529.4, 1522.43, 1522.8, 1523.0, 1522.5, 1521.42, 1520.15, 1518.72, 1518.19], [1529.96, 1532.07, 1536.4, 1536.24, 1534.15, 1531.67, 1527.66, 1524.29, 1523.33, 1523.13, 1522.85, 1522.25, 1521.12, 1519.3, 1518.3], [1527.51, 1527.17, 1528.73, 1529.44, 1529.3, 1527.51, 1525.65, 1524.18, 1523.36, 1523.18, 1523.08, 1522.85, 1521.82, 1518.49, 1516.32], [1525.64, 1525.49, 1524.57, 1523.9, 1523.95, 1523.32, 1522.82, 1522.82, 1522.89, 1523.04, 1523.1, 1522.93, 1521.01, 1516.12, 1512.98], [1523.23, 1523.12, 1521.59, 1519.55, 1518.79, 1519.07, 1519.8, 1521.26, 1522.24, 1522.8, 1522.99, 1522.63, 1520.28, 1515.24, 1508.82], [1521.74, 1521.12, 1517.54, 1513.36, 1514.33, 1516.17, 1517.29, 1519.48, 1521.31, 1522.42, 1523.27, 1523.16, 1520.8, 1516.32, 1512.92], [1520.7, 1518.21, 1512.1, 1506.23, 1510.6, 1514.25, 1516.03, 1518.18, 1520.48, 1522.37, 1523.99, 1523.57, 1520.88, 1517.37, 1514.95]]\n"
     ]
    }
   ],
   "source": [
    "# with open(\"H:\\\\Lab_Meeting\\\\Simulation_Model\\\\2D_15-by-15_DQN\\\\2D_15-by-15_DQN_Filetest\\\\2D_JY_ECLRUN_1.PRT\", 'r') as file_read:\n",
    "#     line = file_read.readline()\n",
    "#     print(line)\n",
    "#     while not line.startswith(f\"  PRESSURE AT   {120*1}\"):\n",
    "#         line = file_read.readline()\n",
    "#     for i in range(1,10+1):\n",
    "#         line = file_read.readline()\n",
    "#     print(line)\n",
    "#\n",
    "#     line_temp = []\n",
    "#     lines_converted = []\n",
    "#     for i in range(1, 15+1):\n",
    "#         # line_temp = [element.strip() for element in line.split()]\n",
    "#         lines_converted.append([element.strip() for element in line.split()][3::])\n",
    "#         line = file_read.readline()\n",
    "#     print(lines_converted)\n",
    "# print(f\"  PRESSURE AT   {120*1}\")\n",
    "\n",
    "################################# Reading Dynamic Data #################################\n",
    "# idx: simulation file index\n",
    "# tstep_idx: simulation time step index\n",
    "# filename: simulation file name\n",
    "# dynamic_type: dynamic data type to collect ('PRESSURE' or 'SOIL')\n",
    "def _read_ecl_prt(args, idx: int, tstep_idx: int, filename: str, dynamic_type: str) -> list:\n",
    "    # Check if dynamic type input is (1) 'PRESSURE', (2) 'SOIL'\n",
    "    if not dynamic_type in ['PRESSURE', 'SOIL']:\n",
    "        print(\"Assign correct dynamic data output type!: 'PRESSURE', 'SOIL'\")\n",
    "        return -1\n",
    "\n",
    "    # File IO\n",
    "    # 1. Open .PRT file\n",
    "    with open(args.simulation_directory+'\\\\'+filename+'_'+str(idx)+'.PRT') as file_read:\n",
    "        line = file_read.readline()\n",
    "        if dynamic_type == 'PRESSURE':\n",
    "            # 2. Fine the location of dynamic data (PRESSURE case)\n",
    "            while not line.startswith(f\"  {dynamic_type} AT   {args.time_step * tstep_idx}\"):\n",
    "                line = file_read.readline()\n",
    "            # 3. Dynamic data is located at 10th line below the line [\"  {dynamic_type} AT   {args.time_step * tstep_idx}\"]\n",
    "            for i in range(1,10+1):\n",
    "                line = file_read.readline()\n",
    "            # 4. Collect dynamic data\n",
    "            lines_converted = []\n",
    "            for i in range(1, args.gridnum_y+1):\n",
    "                lines_converted.append([element.strip() for element in line.split()][3::])\n",
    "                line = file_read.readline()\n",
    "        elif dynamic_type == 'SOIL':\n",
    "            # 2. Fine the location of dynamic data (SOIL case)\n",
    "            while not line.startswith(f\"  {dynamic_type}     AT   {args.time_step * tstep_idx}\"):\n",
    "                line = file_read.readline()\n",
    "            # 3. Dynamic data is located at 10th line below the line [\"  {dynamic_type} AT   {args.time_step * tstep_idx}\"]\n",
    "            for i in range(1,10+1):\n",
    "                line = file_read.readline()\n",
    "            # 4. Collect dynamic data\n",
    "            lines_converted = []\n",
    "            for i in range(1, args.gridnum_y+1):\n",
    "                lines_converted.append([element.strip() for element in line.split()][3::])\n",
    "                line = file_read.readline()\n",
    "\n",
    "    # 5. Post-processing (String replacement from (1) '*' to '.', (2) String to Float)\n",
    "    for i in range(len(lines_converted)):\n",
    "        for j in range(len(lines_converted[i])):\n",
    "            lines_converted[i][j] = float(lines_converted[i][j].replace('*', '.'))\n",
    "\n",
    "    return lines_converted\n",
    "\n",
    "\n",
    "test = _read_ecl_prt(args, 1, 2, '2D_JY_ECLRUN', 'PRESSURE')\n",
    "print(test)\n",
    "\n",
    "# print(test)"
   ],
   "metadata": {
    "collapsed": false,
    "ExecuteTime": {
     "start_time": "2023-05-05T09:41:44.245740Z",
     "end_time": "2023-05-05T09:41:44.320757Z"
    }
   }
  },
  {
   "cell_type": "code",
   "execution_count": 14,
   "outputs": [
    {
     "name": "stdout",
     "output_type": "stream",
     "text": [
      "0.1674967347826659\n"
     ]
    }
   ],
   "source": [
    "CDF_prob = random.random()\n",
    "print(CDF_prob)"
   ],
   "metadata": {
    "collapsed": false,
    "ExecuteTime": {
     "end_time": "2023-05-08T00:02:39.816350400Z",
     "start_time": "2023-05-08T00:02:39.739325200Z"
    }
   }
  },
  {
   "cell_type": "code",
   "execution_count": 34,
   "outputs": [
    {
     "name": "stdout",
     "output_type": "stream",
     "text": [
      "[0.0, 0.0, 0.0, 0.0, 0.0]\n"
     ]
    }
   ],
   "source": [
    "def _read_ecl_rsm(args, idx: int, filename: str, data_type: str) -> list:\n",
    "    # Check if data type input is (1) 'FOPT', (2) 'FWPT', (3) 'FWIT'\n",
    "    if not data_type in ['FOPT', 'FWPT', 'FWIT']:\n",
    "        print(\"Assign correct output data type!: 'FOPT', 'FWPT', 'FWIT'\")\n",
    "        return -1\n",
    "\n",
    "    # File IO\n",
    "    # 1. Open .RSM file\n",
    "    with open(args.simulation_directory+'\\\\'+filename+'_'+str(idx)+'.RSM') as file_read:\n",
    "        line = file_read.readline()\n",
    "        # 2. Fine the location of dynamic data (PRESSURE case)\n",
    "        while not line.startswith(f\" TIME\"):\n",
    "            line = file_read.readline()\n",
    "        # 3. RSM data is located at 6th line below the line [\" TIME\"]\n",
    "        for i in range(1,5+1+1):\n",
    "            line = file_read.readline()\n",
    "        # 4. Collect production or injection data\n",
    "        lines_converted = []\n",
    "        if data_type == 'FOPT':\n",
    "            for i in range(1, round(args.total_production_time/args.time_step)+1):\n",
    "                lines_converted.append([element.strip() for element in line.split()][2])\n",
    "                line = file_read.readline()\n",
    "        elif data_type == 'FWPT':\n",
    "            for i in range(1, round(args.total_production_time/args.time_step)+1):\n",
    "                lines_converted.append([element.strip() for element in line.split()][3])\n",
    "                line = file_read.readline()\n",
    "        elif data_type == 'FWIT':\n",
    "            for i in range(1, round(args.total_production_time/args.time_step)+1):\n",
    "                lines_converted.append([element.strip() for element in line.split()][4])\n",
    "                line = file_read.readline()\n",
    "\n",
    "    # 5. Post-processing (String replacement from (1) '*' to '.', (2) String to Float, only for 2D)\n",
    "    for i in range(len(lines_converted)):\n",
    "        lines_converted[i] = float(lines_converted[i].replace('*', '.'))\n",
    "\n",
    "    return lines_converted\n",
    "\n",
    "test = _read_ecl_rsm(args, 1, '2D_JY_ECLRUN', 'FWIT')\n",
    "print(test)"
   ],
   "metadata": {
    "collapsed": false,
    "ExecuteTime": {
     "start_time": "2023-05-05T09:48:24.917223Z",
     "end_time": "2023-05-05T09:48:25.003564Z"
    }
   }
  },
  {
   "cell_type": "code",
   "execution_count": 50,
   "outputs": [
    {
     "name": "stdout",
     "output_type": "stream",
     "text": [
      "[[0.04384519111888324, 0.053552637364663785, 0.06540933898395172], [0.07989114704443215, 0.09757926735264912, 0.11918358628377426], [0.14557116101442247, 0.17780101757159375, 0.21716665326562945]]\n",
      "<class 'list'>\n",
      "0.04384519111888324\n",
      "False\n"
     ]
    }
   ],
   "source": [
    "import numpy as np\n",
    "from copy import deepcopy\n",
    "def Boltzmann_policy(args, Q_value: list, well_placement: list) -> list:\n",
    "    exp_tau = deepcopy(Q_value)\n",
    "    probability = deepcopy(Q_value)\n",
    "\n",
    "    # Preventing overflow error\n",
    "    max_Q_value = np.array(Q_value).flatten().max()\n",
    "\n",
    "    # Get exponential of all elements in Q_value\n",
    "    for i in range(0, len(Q_value)):\n",
    "        for j in range(0, len(Q_value[i])):\n",
    "            exp_tau[i][j] = np.exp((exp_tau[i][j]-max_Q_value)/args.boltzmann_tau)\n",
    "\n",
    "    # Calculating probability map\n",
    "    for i in range(0, len(Q_value)):\n",
    "        for j in range(0, len(Q_value[i])):\n",
    "            probability[i][j] = exp_tau[i][j] / np.concatenate(np.array(exp_tau)).sum()\n",
    "\n",
    "    # Masking well placement map\n",
    "    probability = [[0 if well_placement[i][j] != 0 else probability[i][j] for j in range(len(Q_value[i]))] for i in range(len(Q_value))]\n",
    "    probability = [[(probability[i][j]/np.concatenate(np.array(probability)).sum()) for j in range(len(Q_value[i]))] for i in range(len(Q_value))]\n",
    "\n",
    "    return probability\n",
    "\n",
    "test = Boltzmann_policy(args, [[1,2,3],[4,5,6],[7,8,9]], [[0,0,0],[0,0,0],[0,0,0]])\n",
    "print(test)\n",
    "print(type(test))\n",
    "\n",
    "test2 = np.cumsum(test)\n",
    "# test3 = test2.reshape(3,3)\n",
    "print(test2[0])\n",
    "print(0<test2[0] and test2[0]<0.01)\n"
   ],
   "metadata": {
    "collapsed": false,
    "ExecuteTime": {
     "end_time": "2023-05-11T02:40:58.523482Z",
     "start_time": "2023-05-11T02:40:58.439462900Z"
    }
   }
  },
  {
   "cell_type": "code",
   "execution_count": 75,
   "outputs": [
    {
     "data": {
      "text/plain": "[[[1, 2], [3, 4]], [[5, 6], [7, 8]]]"
     },
     "execution_count": 75,
     "metadata": {},
     "output_type": "execute_result"
    }
   ],
   "source": [
    "# test = np.array([1,2,3,4,5,6])\n",
    "# np.reshape(test, (2,3))\n",
    "test1 = [[1,2],[3,4]]\n",
    "test2 = [[5,6],[7,8]]\n",
    "test3 = []\n",
    "\n",
    "test3.append(test1)\n",
    "test3.append(test2)\n",
    "test3"
   ],
   "metadata": {
    "collapsed": false,
    "ExecuteTime": {
     "end_time": "2023-05-09T04:47:19.826302600Z",
     "start_time": "2023-05-09T04:47:19.733275100Z"
    }
   }
  },
  {
   "cell_type": "code",
   "execution_count": 7,
   "outputs": [
    {
     "data": {
      "text/plain": "'H:\\\\Lab_Meeting\\\\Simulation_Model\\\\2D_15-by-15_DQN'"
     },
     "execution_count": 7,
     "metadata": {},
     "output_type": "execute_result"
    }
   ],
   "source": [
    "os.getcwd()"
   ],
   "metadata": {
    "collapsed": false,
    "ExecuteTime": {
     "end_time": "2023-05-10T03:10:56.152237700Z",
     "start_time": "2023-05-10T03:10:56.066218200Z"
    }
   }
  },
  {
   "cell_type": "code",
   "execution_count": 41,
   "outputs": [
    {
     "data": {
      "text/plain": "['RUNSPEC\\n',\n 'NOECHO\\n',\n 'TITLE\\n',\n '2D 24wells Joonyi\\n',\n '\\n',\n 'DIMENS\\n',\n ' 15 15 1 /\\n',\n 'FIELD\\n',\n '\\n',\n 'OIL\\n',\n 'WATER\\n',\n '\\n',\n 'START\\n',\n '1 MAR 2018 /\\n',\n 'WELLDIMS\\n',\n '48 48 48 48 /\\n',\n '\\n',\n 'UNIFOUT\\n',\n 'UNIFIN\\n',\n '\\n',\n 'NSTACK\\n',\n '15/\\n',\n '\\n',\n 'GRID\\n',\n 'GRIDFILE\\n',\n '0 0/\\n',\n 'TOPS\\n',\n '225*4200.0 /\\n',\n 'DX\\n',\n '225*120.0 /\\n',\n 'DY\\n',\n '225*120.0 /\\n',\n 'DZ\\n',\n '225*40.0 /\\n',\n 'PORO     \\n',\n '225*0.2 /\\n',\n '\\n',\n 'INCLUDE\\n',\n 'PERMX.DATA /\\n',\n 'COPY\\n',\n \"'PERMX' 'PERMY' /\\n\",\n '/\\n',\n 'PERMZ\\n',\n '225*0.001 /\\n',\n '\\n',\n 'PROPS\\n',\n 'PVDO\\n',\n '0.0      1.01202  3.0\\n',\n '1000.0\\t 1.01101  3.0\\n',\n '2000.0   1.01     3.0  /\\n',\n '\\n',\n 'PVTW\\n',\n '2000.0      1.00        5.00E-07  1.0  /\\n',\n ' \\n',\n 'ROCK\\n',\n '2000.0     3.00E-05  /\\n',\n '\\n',\n 'DENSITY\\n',\n '48.623232    62.312542      0.06054  /\\n',\n '\\n',\n 'SWOF\\n',\n '0.2\\t\\t0\\t\\t0.405  \\t\\t0\\n',\n '0.25\\t0\\t\\t0.405       0\\n',\n '0.27\\t0.002\\t0.3756      0\\n',\n '0.3\\t\\t0.005\\t0.3315      0\\n',\n '0.33\\t0.0092\\t0.2811      0\\n',\n '0.35\\t0.012\\t0.2475      0\\n',\n '0.4\\t\\t0.021\\t0.181       0\\n',\n '0.45\\t0.032\\t0.1305      0\\n',\n '0.5\\t\\t0.048\\t0.0925      0\\n',\n '0.55\\t0.068\\t0.064       0\\n',\n '0.6\\t\\t0.089\\t0.0405      0\\n',\n '0.65\\t0.119\\t0.0245      0\\n',\n '0.67\\t0.137\\t0.0175      0\\n',\n '0.7\\t\\t0.158\\t0.011       0\\n',\n '0.73\\t0.181\\t0.008       0\\n',\n '0.75\\t0.211\\t0.0045      0\\n',\n '0.8\\t\\t0.27\\t0           0\\n',\n '/\\n',\n '\\n',\n 'SOLUTION\\n',\n '\\n',\n 'RPTRST\\n',\n ' RESTART PRESSURE SOIL SWAT /\\n',\n ' \\n',\n 'RPTSOL\\n',\n ' PRESSURE SOIL SWAT /\\n',\n '\\n',\n 'PRESSURE\\n',\n '225*3500.0 /\\n',\n '\\n',\n 'SWAT\\n',\n '225*0.25 /\\n',\n '\\n',\n 'SUMMARY\\n',\n 'RUNSUM\\n',\n 'SEPARATE\\n',\n 'RPTONLY\\n',\n '\\n',\n 'FOPT\\n',\n 'FWPT\\n',\n 'FWIT\\n',\n '--WOPR\\n',\n \"--'P*'/\\n\",\n '--WBHP\\n',\n \"--'P*' 'I*'/\\n\",\n 'TCPU\\n',\n '\\n',\n 'SCHEDULE\\n',\n '\\n',\n 'RPTSCHED\\n',\n ' PRESSURE SOIL SWAT /\\n',\n ' \\n',\n 'ZIPPY2\\n',\n \"'SIM=3.1' 'MINSTEP=0.0000001' /\\n\",\n '\\n',\n 'INCLUDE\\n',\n 'WELL.DATA\\n',\n '\\n',\n 'end\\n',\n '']"
     },
     "execution_count": 41,
     "metadata": {},
     "output_type": "execute_result"
    }
   ],
   "source": [
    "output_data_file = []\n",
    "with open(f\"{os.path.join(args.basicfilepath, args.ecl_filename)}.template\", 'r') as file_read_data:\n",
    "    line = file_read_data.readline()\n",
    "    output_data_file.append(line)\n",
    "    while not line.startswith(\"[#PERMX]\"):\n",
    "        line = file_read_data.readline()\n",
    "        output_data_file.append(line)\n",
    "    line = line.replace(\"[#PERMX]\", f\"\\'{args.perm_filename}.DATA\\'\")\n",
    "    output_data_file[-1] = line\n",
    "    while not line.startswith(\"[#WELL]\"):\n",
    "        line = file_read_data.readline()\n",
    "        output_data_file.append(line)\n",
    "    line = line.replace(\"[#WELL]\", f\"\\'{args.well_filename}.DATA\\'\")\n",
    "    output_data_file[-1] = line\n",
    "    while line:\n",
    "        line = file_read_data.readline()\n",
    "        output_data_file.append(line)\n",
    "\n",
    "output_data_file"
   ],
   "metadata": {
    "collapsed": false,
    "ExecuteTime": {
     "end_time": "2023-05-10T04:50:46.074177300Z",
     "start_time": "2023-05-10T04:50:45.991158900Z"
    }
   }
  },
  {
   "cell_type": "code",
   "execution_count": 37,
   "outputs": [],
   "source": [
    "algorithm_iter_count = 1\n",
    "sample_num = 2\n",
    "sample_simulation_directory = f\"Step{algorithm_iter_count}_Sample{sample_num}\"\n",
    "sample_data_name = \"test\"\n",
    "lines = ['1\\n', '2\\n', '3\\n']\n",
    "\n",
    "with open(f\"{os.path.join(args.simulation_directory, sample_simulation_directory, sample_data_name)}\", 'w') as file_write_data:\n",
    "    for i in range(len(lines)):\n",
    "        file_write_data.write(lines[i])"
   ],
   "metadata": {
    "collapsed": false,
    "ExecuteTime": {
     "end_time": "2023-05-10T04:42:59.520253900Z",
     "start_time": "2023-05-10T04:42:59.407228800Z"
    }
   }
  },
  {
   "cell_type": "code",
   "execution_count": 43,
   "outputs": [],
   "source": [
    "output_well_file = []\n",
    "well_loc_list = [(1,1), (2,2), (3,3), (4,4), (5,6)]\n",
    "timestep = 5\n",
    "sample_well_name = f\"{args.well_filename}_Sam{sample_num}_Seq{timestep}.DATA\"\n",
    "\n",
    "for i in range(len(well_loc_list)):\n",
    "    output_well_file.append(f\"WELSPECS\\n P{i+1} ALL {well_loc_list[i][0]} {well_loc_list[i][1]} 1* LIQ 3* NO /\\n /\\n \\n\"\n",
    "                            f\"COMPDAT\\n P{i+1} {well_loc_list[i][0]} {well_loc_list[i][1]} 1 1 1* 1* 1* 1 1* 1* 1* Z /\\n /\\n \\n\"\n",
    "                            f\"WCONPROD\\n P{i+1} 1* BHP 5000 4* 1500.0 /\\n /\\n \\n\"\n",
    "                            f\"TSTEP\\n 1*{args.time_step} /\\n \\n \\n\")\n",
    "\n",
    "with open(f\"{os.path.join(args.simulation_directory, sample_simulation_directory, sample_well_name)}\", 'w') as file_write_well:\n",
    "    for i in range(len(output_well_file)):\n",
    "        file_write_well.write(output_well_file[i])"
   ],
   "metadata": {
    "collapsed": false,
    "ExecuteTime": {
     "end_time": "2023-05-10T05:05:39.025716700Z",
     "start_time": "2023-05-10T05:05:38.937247900Z"
    }
   }
  },
  {
   "cell_type": "code",
   "execution_count": 49,
   "outputs": [
    {
     "name": "stdout",
     "output_type": "stream",
     "text": [
      "deque([2, 1])\n"
     ]
    }
   ],
   "source": [
    "from collections import deque\n",
    "\n",
    "q = deque()\n",
    "len(q)\n",
    "q.append(2)\n",
    "q.append(1)\n",
    "print(q)"
   ],
   "metadata": {
    "collapsed": false,
    "ExecuteTime": {
     "end_time": "2023-05-10T10:17:37.878221800Z",
     "start_time": "2023-05-10T10:17:37.801204400Z"
    }
   }
  },
  {
   "cell_type": "code",
   "execution_count": 60,
   "outputs": [
    {
     "name": "stdout",
     "output_type": "stream",
     "text": [
      "[0]\n",
      "[2]\n"
     ]
    }
   ],
   "source": [
    "test1 = np.array([[1,2,6],[3,4,2]])\n",
    "\n",
    "row, col = np.where(test1 == max(map(max, test1)))\n",
    "print(row)\n",
    "print(col)\n"
   ],
   "metadata": {
    "collapsed": false,
    "ExecuteTime": {
     "end_time": "2023-05-13T06:59:23.415913100Z",
     "start_time": "2023-05-13T06:59:23.343896900Z"
    }
   }
  },
  {
   "cell_type": "code",
   "execution_count": 2,
   "outputs": [
    {
     "name": "stdout",
     "output_type": "stream",
     "text": [
      "[[1, 2], [3, 4], [5, 6]]\n",
      "tensor([[1., 2.],\n",
      "        [3., 4.],\n",
      "        [5., 6.]], device='cuda:0', dtype=torch.float64, requires_grad=True)\n",
      "[[1, 2], [3, 4], [5, 6]]\n",
      "tensor([[1., 2.],\n",
      "        [3., 4.],\n",
      "        [5., 6.]], device='cuda:0', dtype=torch.float64, requires_grad=True)\n",
      "[[1.0, 2.0], [3.0, 4.0], [5.0, 6.0]]\n"
     ]
    }
   ],
   "source": [
    "import torch\n",
    "list = [[1,2],[3,4],[5,6]]\n",
    "print(list)\n",
    "\n",
    "tens = torch.tensor(data=list, dtype=torch.double, device='cuda', requires_grad=True)\n",
    "print(tens)\n",
    "tenstolist = tens.tolist()\n",
    "print(tenstolist)"
   ],
   "metadata": {
    "collapsed": false,
    "ExecuteTime": {
     "end_time": "2023-05-31T07:32:19.954334500Z",
     "start_time": "2023-05-31T07:32:16.277503800Z"
    }
   }
  },
  {
   "cell_type": "code",
   "execution_count": 10,
   "outputs": [
    {
     "name": "stdout",
     "output_type": "stream",
     "text": [
      "[6, 5, 2]\n"
     ]
    }
   ],
   "source": [
    "import random\n",
    "from collections import deque\n",
    "\n",
    "replay_memory = deque([1,2,3,4,5,6])\n",
    "batch_size = 3\n",
    "batch = random.sample(replay_memory, batch_size)\n",
    "\n",
    "print(batch)"
   ],
   "metadata": {
    "collapsed": false,
    "ExecuteTime": {
     "end_time": "2023-05-31T08:18:04.102639Z",
     "start_time": "2023-05-31T08:18:04.095637500Z"
    }
   }
  },
  {
   "cell_type": "code",
   "execution_count": 12,
   "outputs": [
    {
     "name": "stdout",
     "output_type": "stream",
     "text": [
      "[[1, 2, 3], [5, 6, 7]]\n"
     ]
    }
   ],
   "source": [
    "list1 = [1,2,3]\n",
    "list2 = [5,6,7]\n",
    "\n",
    "print([list1]+[list2])"
   ],
   "metadata": {
    "collapsed": false,
    "ExecuteTime": {
     "end_time": "2023-06-02T06:14:16.861481600Z",
     "start_time": "2023-06-02T06:14:16.847478600Z"
    }
   }
  },
  {
   "cell_type": "code",
   "execution_count": 5,
   "outputs": [
    {
     "name": "stdout",
     "output_type": "stream",
     "text": [
      "tensor([28, 79, 38,  3, 56])\n",
      "tensor(28)\n",
      "tensor(38)\n",
      "tensor(56)\n",
      "tensor(79)\n"
     ]
    }
   ],
   "source": [
    "import torch\n",
    "from torch.utils.data import Dataset, DataLoader, Subset\n",
    "import random\n",
    "\n",
    "random.seed(202022673)\n",
    "\n",
    "data=torch.tensor(data=[random.randint(0,100) for r in range (5)])\n",
    "print(data)\n",
    "idx = [0, 2, 4]\n",
    "\n",
    "subset = Subset(data, idx)\n",
    "\n",
    "for s in subset:\n",
    "    print(s)\n",
    "\n",
    "print(data[1])"
   ],
   "metadata": {
    "collapsed": false,
    "ExecuteTime": {
     "end_time": "2023-06-22T02:21:43.092373400Z",
     "start_time": "2023-06-22T02:21:43.085371900Z"
    }
   }
  },
  {
   "cell_type": "code",
   "execution_count": 8,
   "outputs": [
    {
     "name": "stdout",
     "output_type": "stream",
     "text": [
      "1 4\n",
      "2 5\n",
      "3 6\n"
     ]
    }
   ],
   "source": [
    "l1 = [1,2,3]\n",
    "l2 = [4,5,6]\n",
    "\n",
    "for i, j in zip(l1, l2):\n",
    "    print(i,j)"
   ],
   "metadata": {
    "collapsed": false,
    "ExecuteTime": {
     "end_time": "2023-06-22T02:56:14.985813600Z",
     "start_time": "2023-06-22T02:56:14.660741100Z"
    }
   }
  },
  {
   "cell_type": "code",
   "execution_count": 16,
   "outputs": [
    {
     "ename": "ValueError",
     "evalue": "The truth value of an array with more than one element is ambiguous. Use a.any() or a.all()",
     "output_type": "error",
     "traceback": [
      "\u001B[1;31m---------------------------------------------------------------------------\u001B[0m",
      "\u001B[1;31mValueError\u001B[0m                                Traceback (most recent call last)",
      "Cell \u001B[1;32mIn[16], line 5\u001B[0m\n\u001B[0;32m      3\u001B[0m ten \u001B[38;5;241m=\u001B[39m torch\u001B[38;5;241m.\u001B[39mtensor(FourDim)\n\u001B[0;32m      4\u001B[0m ten\u001B[38;5;241m.\u001B[39msize()\n\u001B[1;32m----> 5\u001B[0m row, col \u001B[38;5;241m=\u001B[39m np\u001B[38;5;241m.\u001B[39mwhere(np\u001B[38;5;241m.\u001B[39marray(ten) \u001B[38;5;241m==\u001B[39m \u001B[38;5;28;43mmax\u001B[39;49m\u001B[43m(\u001B[49m\u001B[38;5;28;43mmap\u001B[39;49m\u001B[43m(\u001B[49m\u001B[38;5;28;43mmax\u001B[39;49m\u001B[43m,\u001B[49m\u001B[43m \u001B[49m\u001B[43mnp\u001B[49m\u001B[38;5;241;43m.\u001B[39;49m\u001B[43marray\u001B[49m\u001B[43m(\u001B[49m\u001B[43mten\u001B[49m\u001B[43m)\u001B[49m\u001B[43m)\u001B[49m\u001B[43m)\u001B[49m)\n\u001B[0;32m      6\u001B[0m \u001B[38;5;28mprint\u001B[39m(row, col)\n",
      "\u001B[1;31mValueError\u001B[0m: The truth value of an array with more than one element is ambiguous. Use a.any() or a.all()"
     ]
    }
   ],
   "source": [
    "import numpy as np\n",
    "FourDim = [[[[1,2],[3,4]]],[[[5,6],[7,8]]],[[[9, 10],[11, 12]]]]\n",
    "ten = torch.tensor(FourDim)\n",
    "ten.size()\n",
    "row, col = np.where(np.array(ten) == max(map(max, np.array(ten))))\n",
    "print(row, col)"
   ],
   "metadata": {
    "collapsed": false,
    "ExecuteTime": {
     "end_time": "2023-06-22T03:03:57.871757500Z",
     "start_time": "2023-06-22T03:03:57.835835500Z"
    }
   }
  },
  {
   "cell_type": "code",
   "execution_count": null,
   "outputs": [],
   "source": [],
   "metadata": {
    "collapsed": false
   }
  }
 ],
 "metadata": {
  "kernelspec": {
   "display_name": "RL_env",
   "language": "python",
   "name": "python3"
  },
  "language_info": {
   "codemirror_mode": {
    "name": "ipython",
    "version": 3
   },
   "file_extension": ".py",
   "mimetype": "text/x-python",
   "name": "python",
   "nbconvert_exporter": "python",
   "pygments_lexer": "ipython3",
   "version": "3.10.11"
  },
  "orig_nbformat": 4
 },
 "nbformat": 4,
 "nbformat_minor": 2
}
