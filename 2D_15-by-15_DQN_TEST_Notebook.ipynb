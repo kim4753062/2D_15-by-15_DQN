{
 "cells": [
  {
   "cell_type": "code",
   "execution_count": 24,
   "metadata": {},
   "outputs": [
    {
     "name": "stdout",
     "output_type": "stream",
     "text": [
      "D:\\Lab_Meeting\\Simulation_Model\\2D_15-by-15\\Simulation\\Bruteforce_search\\(1,1)(1,2)(1,1)\n",
      "<class 'str'>\n"
     ]
    }
   ],
   "source": [
    "import os # For CMG/ECL cmd command prompt execution and Directory generation\n",
    "import shutil\n",
    "import random # For reproduction of research\n",
    "import argparse # For definition of set of arguments\n",
    "import numpy as np\n",
    "import itertools\n",
    "import pickle # For saving simulation results\n",
    "\n",
    "parser = argparse.ArgumentParser()\n",
    "args, unknown = parser.parse_known_args()\n",
    "# args = parser.parse_args()\n",
    "\n",
    "args.master_directory = \"D:\\\\Lab_Meeting\\\\Simulation_Model\\\\2D_15-by-15\\\\Simulation\\\\Bruteforce_search\"\n",
    "# args.simulation_directory = \"\" # Location of actual simulation of each case happens\n",
    "# args.simulation_data_file = \"\" # Location of actual simulation data file\n",
    "# args.simulation_include_file = \"\" # Location of actual simulation include file\n",
    "# args.simulation_log = \"\" # Location of actual simulation log file\n",
    "# args.master_simulation_data_file = args.master_directory + \"\\\\2D_15-by-15.dat\" # Location of master simulation data file\n",
    "# args.master_well_placement_template = args.master_directory + \"\\\\2D_15-by-15_WellPlacement.template.inc\" # Location of master simulation include file\n",
    "# args.results_report_command = args.master_directory + \"\\\\2D_15-by-15_Results.rwd\" # Location of master CMG Results Report command file\n",
    "# args.simulation_results_report_command = \"\" # Location of actual CMG Results Report command file\n",
    "\n",
    "# # Saving former well location\n",
    "# args.former_well_location = None\n",
    "\n",
    "# # Making basic simulation directories\n",
    "# if not os.path.exists(args.master_directory):\n",
    "#     os.makedirs(args.master_directory)\n",
    "well_location = (1,1)\n",
    "args.former_well_location_string = \"\"\n",
    "for i in [(1,1), (1,2)]:\n",
    "    args.former_well_location_string += f\"{i}\"\n",
    "\n",
    "args.simulation_directory = args.master_directory + f\"\\\\{args.former_well_location_string}{well_location}\".replace(\" \", \"\")\n",
    "print(args.simulation_directory)\n",
    "print(type(args.simulation_directory))"
   ]
  },
  {
   "cell_type": "code",
   "execution_count": 26,
   "metadata": {},
   "outputs": [
    {
     "name": "stdout",
     "output_type": "stream",
     "text": [
      "['**[#Well_Prod_1]']\n"
     ]
    }
   ],
   "source": [
    "# For ECL, \".DATA\" must not be included for successful simulation run command\n",
    "# args.simulation_data_file = args.simulation_directory + \"\\\\2D_15-by-15.DATA\"\n",
    "# args.simulation_run_file = args.simulation_data_file[:-5] # For ECL Simulation\n",
    "# with open(\"TEST.rwd\", 'r') as file_read:\n",
    "#     lines = file_read.readlines()\n",
    "#     lines[0] = lines[0].replace(\"TEST.sr3\", \"12345\")\n",
    "# with open(\"TEST.rwd\", \"w\") as file_write:\n",
    "#     for i in range(len(lines)):\n",
    "#         file_write.write(lines[i])\n",
    "\n",
    "string = [\"1\", \"str\", \"**[#Well_Prod_1]\"]\n",
    "matching = [s for s in string if \"**[#Well_Prod_\" in s]\n",
    "print(matching)"
   ]
  },
  {
   "cell_type": "code",
   "execution_count": 7,
   "metadata": {},
   "outputs": [
    {
     "ename": "MemoryError",
     "evalue": "",
     "output_type": "error",
     "traceback": [
      "\u001b[1;31m---------------------------------------------------------------------------\u001b[0m",
      "\u001b[1;31mMemoryError\u001b[0m                               Traceback (most recent call last)",
      "Cell \u001b[1;32mIn[7], line 7\u001b[0m\n\u001b[0;32m      3\u001b[0m \u001b[39mimport\u001b[39;00m \u001b[39mitertools\u001b[39;00m\n\u001b[0;32m      5\u001b[0m test \u001b[39m=\u001b[39m itertools\u001b[39m.\u001b[39mpermutations(index, \u001b[39m5\u001b[39m)\n\u001b[1;32m----> 7\u001b[0m \u001b[39mprint\u001b[39m(\u001b[39mlist\u001b[39;49m(test))\n",
      "\u001b[1;31mMemoryError\u001b[0m: "
     ]
    }
   ],
   "source": [
    "index = [i for i in range(1, 226)]\n",
    "\n",
    "import itertools\n",
    "\n",
    "test = itertools.permutations(index, 5)\n",
    "\n",
    "print(list(test))\n"
   ]
  },
  {
   "cell_type": "code",
   "execution_count": null,
   "metadata": {},
   "outputs": [],
   "source": []
  },
  {
   "cell_type": "code",
   "execution_count": null,
   "metadata": {},
   "outputs": [],
   "source": []
  }
 ],
 "metadata": {
  "kernelspec": {
   "display_name": "RL_env",
   "language": "python",
   "name": "python3"
  },
  "language_info": {
   "codemirror_mode": {
    "name": "ipython",
    "version": 3
   },
   "file_extension": ".py",
   "mimetype": "text/x-python",
   "name": "python",
   "nbconvert_exporter": "python",
   "pygments_lexer": "ipython3",
   "version": "3.10.11"
  },
  "orig_nbformat": 4
 },
 "nbformat": 4,
 "nbformat_minor": 2
}
