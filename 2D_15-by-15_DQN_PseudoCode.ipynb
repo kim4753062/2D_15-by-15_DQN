{
 "cells": [
  {
   "cell_type": "code",
   "execution_count": 1,
   "metadata": {
    "ExecuteTime": {
     "start_time": "2023-05-02T10:07:09.734470Z",
     "end_time": "2023-05-02T10:07:09.744468Z"
    }
   },
   "outputs": [],
   "source": [
    "# Import required modules\n",
    "%load_ext autoreload\n",
    "%autoreload 2\n",
    "\n",
    "import numpy as np\n",
    "import os.path\n",
    "import pickle\n",
    "\n",
    "import argparse\n",
    "import torch\n",
    "\n",
    "import random\n",
    "import numpy.random\n",
    "import torch.random\n",
    "\n",
    "from datetime import datetime\n",
    "\n",
    "import warnings\n",
    "warnings.filterwarnings(action='ignore')"
   ]
  },
  {
   "cell_type": "code",
   "execution_count": 2,
   "metadata": {
    "ExecuteTime": {
     "start_time": "2023-05-02T10:07:13.782314Z",
     "end_time": "2023-05-02T10:07:13.806320Z"
    }
   },
   "outputs": [],
   "source": [
    "# Define variables\n",
    "parser = argparse.ArgumentParser()\n",
    "args, unknown = parser.parse_known_args()\n",
    "\n",
    "# 2023-05-02\n",
    "# For Using GPU (CUDA)\n",
    "args.device = torch.device('cuda' if torch.cuda.is_available() else 'cpu')\n",
    "\n",
    "# 2023-05-02\n",
    "# For using tensorboard\n",
    "args.istensorboard = False\n",
    "\n",
    "args.total_episode = 100\n",
    "args.learning_rate = 0.1 # Learning rate Alpha\n",
    "args.boltzmann_tau = 5 # Temperature parameter at Boltzmann policy Tau\n",
    "args.total_reward = 0\n",
    "args.epsilon = 0.1\n",
    "\n",
    "args.raplay_batch = 100 #\n",
    "args.batch_size = 20\n",
    "\n",
    "args.gridnum_x = 15\n",
    "args.gridnum_y = 15\n",
    "args.gridsize_x = 120 # ft\n",
    "args.gridsize_y = 120 # ft\n",
    "\n",
    "# 2023-05-02: For reproduction\n",
    "args.random_seed = 202022673\n",
    "random.seed(args.random_seed)\n",
    "np.random.seed(args.random_seed)\n",
    "torch.random.seed(args.random_seed)\n",
    "\n",
    "# State: Pressure distribution, Oil saturation\n",
    "\n",
    "# Action: Well placement (Coordinate of well location)\n",
    "args.actions = [[(i, j) for i in range(1, args.gridnum_x+1)] for j in range(1, args.gridnum_y+1)]\n",
    "args.policy = np.ones((len(args.actions), len(args.actions[0]))) / (len(args.actions) * len(args.actions[0]))\n",
    "\n",
    "args.discount_factor = 1\n"
   ]
  },
  {
   "cell_type": "code",
   "execution_count": 3,
   "outputs": [],
   "source": [
    "# Define CNN Structure\n"
   ],
   "metadata": {
    "collapsed": false,
    "ExecuteTime": {
     "start_time": "2023-05-02T10:07:18.269566Z",
     "end_time": "2023-05-02T10:07:18.285077Z"
    }
   }
  },
  {
   "cell_type": "code",
   "execution_count": 4,
   "outputs": [],
   "source": [
    "# Implement DQN Algorithm\n"
   ],
   "metadata": {
    "collapsed": false,
    "ExecuteTime": {
     "start_time": "2023-05-02T10:08:24.117562Z",
     "end_time": "2023-05-02T10:08:24.126564Z"
    }
   }
  },
  {
   "cell_type": "code",
   "execution_count": 5,
   "outputs": [],
   "source": [
    "# Return & Visualize Optimization result\n",
    "# Final well placement"
   ],
   "metadata": {
    "collapsed": false,
    "ExecuteTime": {
     "start_time": "2023-05-02T10:09:00.341116Z",
     "end_time": "2023-05-02T10:09:00.351622Z"
    }
   }
  },
  {
   "cell_type": "code",
   "execution_count": null,
   "outputs": [],
   "source": [
    "# Compare PSO Result & DQN Result"
   ],
   "metadata": {
    "collapsed": false
   }
  }
 ],
 "metadata": {
  "kernelspec": {
   "display_name": "RL_env",
   "language": "python",
   "name": "python3"
  },
  "language_info": {
   "codemirror_mode": {
    "name": "ipython",
    "version": 3
   },
   "file_extension": ".py",
   "mimetype": "text/x-python",
   "name": "python",
   "nbconvert_exporter": "python",
   "pygments_lexer": "ipython3",
   "version": "3.10.9"
  },
  "orig_nbformat": 4
 },
 "nbformat": 4,
 "nbformat_minor": 2
}
