{
 "cells": [
  {
   "cell_type": "code",
   "execution_count": 1,
   "metadata": {
    "ExecuteTime": {
     "start_time": "2023-05-02T10:07:09.734470Z",
     "end_time": "2023-05-02T10:07:09.744468Z"
    }
   },
   "outputs": [],
   "source": [
    "# Import required modules\n",
    "%load_ext autoreload\n",
    "%autoreload 2\n",
    "\n",
    "import numpy as np\n",
    "import os.path\n",
    "import pickle\n",
    "\n",
    "import argparse\n",
    "import torch\n",
    "\n",
    "import random\n",
    "import numpy.random\n",
    "import torch.random\n",
    "\n",
    "from datetime import datetime\n",
    "\n",
    "import warnings\n",
    "warnings.filterwarnings(action='ignore')"
   ]
  },
  {
   "cell_type": "code",
   "execution_count": 2,
   "metadata": {
    "ExecuteTime": {
     "start_time": "2023-05-02T10:07:13.782314Z",
     "end_time": "2023-05-02T10:07:13.806320Z"
    }
   },
   "outputs": [],
   "source": [
    "# Define variables\n",
    "parser = argparse.ArgumentParser()\n",
    "args, unknown = parser.parse_known_args()\n",
    "\n",
    "# 2023-05-02\n",
    "# For Using GPU (CUDA)\n",
    "args.device = torch.device('cuda' if torch.cuda.is_available() else 'cpu')\n",
    "\n",
    "# 2023-05-02\n",
    "# For using tensorboard\n",
    "args.istensorboard = False\n",
    "\n",
    "args.total_episode = 100\n",
    "args.learning_rate = 0.1 # Learning rate Alpha\n",
    "args.boltzmann_tau_initial = 5 # Initial temperature parameter at Boltzmann policy, Tau\n",
    "args.total_reward = 0\n",
    "args.epsilon = 0.1\n",
    "\n",
    "args.max_iteration = 50 # Maximum iteration num. of algorithm, MAX_STEPS\n",
    "args.replay_batch = 100 # Replay batch size, B\n",
    "args.nn_update_num = 20 # CNN update number, U: [(1) Constant num. of iteration], (2) Lower limit of loss function value\n",
    "args.batch_size = 20 # Batch size, N\n",
    "args.replay_memory = [] # (1) Using list class, (2) Replay memory class by SLM Lab (page. 105~108)\n",
    "\n",
    "args.gridnum_x = 15\n",
    "args.gridnum_y = 15\n",
    "args.gridsize_x = 120 # ft\n",
    "args.gridsize_y = 120 # ft\n",
    "\n",
    "# 2023-05-02: For reproduction\n",
    "args.random_seed = 202022673\n",
    "random.seed(args.random_seed)\n",
    "np.random.seed(args.random_seed)\n",
    "torch.random.seed(args.random_seed)\n",
    "\n",
    "# State: Pressure distribution, Oil saturation\n",
    "\n",
    "# Action: Well placement (Coordinate of well location)\n",
    "\n",
    "# Environment: Reservoir simulator\n",
    "\n",
    "# Reward: NPV at each time segment\n",
    "\n",
    "args.discount_rate = 0.1 # Used for calculation of NPV\n",
    "args.discount_factor = 1 # Used for Q-value update\n"
   ]
  },
  {
   "cell_type": "code",
   "execution_count": 3,
   "outputs": [],
   "source": [
    "# Define CNN Structure\n"
   ],
   "metadata": {
    "collapsed": false,
    "ExecuteTime": {
     "start_time": "2023-05-02T10:07:18.269566Z",
     "end_time": "2023-05-02T10:07:18.285077Z"
    }
   }
  },
  {
   "cell_type": "code",
   "execution_count": 4,
   "outputs": [],
   "source": [
    "# Implement DQN Algorithm\n",
    "for m in range(1, args.max_iteration):\n",
    "    # Collect h experience (s, a, r, s') with current policy and save at replay memory\n",
    "    for b in range(1, args.replay_batch):\n",
    "        # Extract b-th experience data from replay memory\n",
    "        for u in range(1, args.nn_update_num):\n",
    "            for i in range(1, args.batch_size):\n",
    "                # Calculate Target Q-value for all samples in b-th batch experience\n",
    "                # if well_num == 5 (terminal state):\n",
    "                #   yi = ri\n",
    "                # elif well_num < 5 (non-terminal state):\n",
    "                #   yi = ri + args.discount_factor * max.a'(Q_network(s', a'))\n",
    "            # Loss calculation: L(theta) = sum(yi - Q_network(s', a')) / args.batch_size\n",
    "            # Update Q-network parameter: theta = theta - args.learning_rate * grad(L(theta))\n",
    "    # Decrease tau (temperature parameter of Boltzmann policy)\n"
   ],
   "metadata": {
    "collapsed": false,
    "ExecuteTime": {
     "start_time": "2023-05-02T10:08:24.117562Z",
     "end_time": "2023-05-02T10:08:24.126564Z"
    }
   }
  },
  {
   "cell_type": "code",
   "execution_count": 5,
   "outputs": [],
   "source": [
    "# Return & Visualize Optimization result\n",
    "# Final well placement\n"
   ],
   "metadata": {
    "collapsed": false,
    "ExecuteTime": {
     "start_time": "2023-05-02T10:09:00.341116Z",
     "end_time": "2023-05-02T10:09:00.351622Z"
    }
   }
  },
  {
   "cell_type": "code",
   "execution_count": null,
   "outputs": [],
   "source": [
    "# Compare PSO Result & DQN Result\n"
   ],
   "metadata": {
    "collapsed": false
   }
  }
 ],
 "metadata": {
  "kernelspec": {
   "display_name": "RL_env",
   "language": "python",
   "name": "python3"
  },
  "language_info": {
   "codemirror_mode": {
    "name": "ipython",
    "version": 3
   },
   "file_extension": ".py",
   "mimetype": "text/x-python",
   "name": "python",
   "nbconvert_exporter": "python",
   "pygments_lexer": "ipython3",
   "version": "3.10.9"
  },
  "orig_nbformat": 4
 },
 "nbformat": 4,
 "nbformat_minor": 2
}
