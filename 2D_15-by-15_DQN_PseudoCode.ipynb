{
 "cells": [
  {
   "cell_type": "code",
   "execution_count": 3,
   "metadata": {},
   "outputs": [
    {
     "name": "stdout",
     "output_type": "stream",
     "text": [
      "cuda\n"
     ]
    }
   ],
   "source": [
    "import torch\n",
    "import torch.nn as nn\n",
    "\n",
    "device = 'cuda' if torch.cuda.is_available() else 'cpu'\n",
    "print(device)\n",
    "\n",
    "class CNN(nn.Module): # From JYKim\n",
    "    def __init__(self):\n",
    "        super().__init__()\n",
    "        \n",
    "        # Original code from JYKim\n",
    "        self.layer = nn.Sequential(\n",
    "            # Input channel: Number of input state map: Pressure / Water saturation\n",
    "            # 2 * 15 * 15\n",
    "            nn.Conv2d(in_channels=2, out_channels=32, kernel_size=(3, 3), padding='same'),\n",
    "            nn.BatchNorm2d(32),\n",
    "            nn.ReLU(),\n",
    "            \n",
    "            # 32 * 15 * 15\n",
    "            nn.AvgPool2d(stride=2, kernel_size=(2, 2)),\n",
    "\n",
    "            # 32 * 7 * 7\n",
    "            nn.Conv2d(in_channels=32, out_channels=64, kernel_size=(3, 3), padding='same'),\n",
    "            nn.BatchNorm2d(64),\n",
    "            nn.ReLU(),\n",
    "\n",
    "            # 64 * 7 * 7\n",
    "            nn.AvgPool2d(stride=2, kernel_size=(2, 2)),\n",
    "\n",
    "            # 64 * 3 * 3\n",
    "        )\n",
    "\n",
    "        self.layer.apply(self._init_weight)\n",
    "\n",
    "        self.fc_layer = nn.Sequential(\n",
    "            nn.Linear(64 * 3 * 3, 128),\n",
    "            nn.BatchNorm1d(128),\n",
    "            nn.ReLU(),\n",
    "\n",
    "            nn.Dropout(0.4),\n",
    "\n",
    "            nn.Linear(128, 1),\n",
    "        )\n",
    "\n",
    "    def forward(self, x):\n",
    "        out = self.layer(x)\n",
    "        out = torch.nn.Flatten()(out)\n",
    "        out = self.fc_layer(out)\n",
    "        return out\n",
    "\n",
    "    def _init_weight(self, layer):\n",
    "        if isinstance(layer, nn.Conv2d):\n",
    "            torch.nn.init.xavier_uniform(layer.weight)"
   ]
  },
  {
   "cell_type": "code",
   "execution_count": null,
   "metadata": {},
   "outputs": [],
   "source": []
  }
 ],
 "metadata": {
  "kernelspec": {
   "display_name": "RL_env",
   "language": "python",
   "name": "python3"
  },
  "language_info": {
   "codemirror_mode": {
    "name": "ipython",
    "version": 3
   },
   "file_extension": ".py",
   "mimetype": "text/x-python",
   "name": "python",
   "nbconvert_exporter": "python",
   "pygments_lexer": "ipython3",
   "version": "3.10.9"
  },
  "orig_nbformat": 4
 },
 "nbformat": 4,
 "nbformat_minor": 2
}
