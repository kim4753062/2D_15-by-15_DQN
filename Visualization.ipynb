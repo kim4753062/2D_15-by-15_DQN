{
 "cells": [
  {
   "cell_type": "markdown",
   "source": [
    "### Well placement map"
   ],
   "metadata": {
    "collapsed": false
   }
  },
  {
   "cell_type": "code",
   "execution_count": 11,
   "outputs": [],
   "source": [
    "import os\n",
    "import pickle\n",
    "import argparse\n",
    "\n",
    "from datetime import datetime\n",
    "\n",
    "import matplotlib.pyplot as plt\n",
    "import numpy as np\n",
    "import random\n",
    "\n",
    "import warnings\n",
    "warnings.filterwarnings(action='ignore')"
   ],
   "metadata": {
    "collapsed": false,
    "ExecuteTime": {
     "end_time": "2023-07-10T04:54:15.062765900Z",
     "start_time": "2023-07-10T04:54:14.821711300Z"
    }
   }
  },
  {
   "cell_type": "code",
   "execution_count": 3,
   "outputs": [],
   "source": [
    "################################################\n",
    "# Need to integrate in parser.py for future work\n",
    "################################################\n",
    "parser = argparse.ArgumentParser()\n",
    "args, unknown = parser.parse_known_args()\n",
    "\n",
    "args.master_directory = os.getcwd()\n",
    "args.basicfilepath = 'data'\n",
    "args.simulation_directory = 'simulation'\n",
    "args.variable_save_directory = 'variables'\n",
    "args.deeplearningmodel_save_directory = 'model'\n",
    "args.ecl_filename = '2D_ECL'\n",
    "args.perm_filename = 'PERMX'\n",
    "args.well_filename = 'WELL'\n",
    "\n",
    "args.learning_rate = 0.001  # Learning rate Alpha\n",
    "# args.boltzmann_tau_start = 5.0  # Start value of Temperature parameter at Boltzmann policy, Tau\n",
    "args.boltzmann_tau_start = 8.0  # Start value of Temperature parameter at Boltzmann policy, Tau\n",
    "args.boltzmann_tau_end = 0.1  # End value of Temperature parameter at Boltzmann policy, Tau\n",
    "args.boltzmann_tau_tracker = [args.boltzmann_tau_start]\n",
    "# args.total_reward = 0\n",
    "args.epsilon = 0.1\n",
    "\n",
    "# For Implementation # 2023-07-09 (2nd Trial)\n",
    "# args.max_iteration = 50 # Maximum iteration num. of algorithm, MAX_STEPS\n",
    "# args.max_iteration = 10  # Maximum iteration num. of algorithm, MAX_STEPS\n",
    "args.max_iteration = 20  # Maximum iteration num. of algorithm, MAX_STEPS\n",
    "\n",
    "# args.sample_num_per_iter = 50 # Simulation sample num. of each iteration of algorithm\n",
    "# args.sample_num_per_iter = 10\n",
    "args.sample_num_per_iter = 20\n",
    "\n",
    "# args.experience_num_per_iter = 250 # Experience sample num. of each iteration of algorithm, h\n",
    "args.experience_num_per_iter = 100  # Experience sample num. of each iteration of algorithm, h\n",
    "# args.replay_batch_num = 16 # Replay batch num., B\n",
    "args.replay_batch_num = 32  # Replay batch num., B\n",
    "args.nn_update_num = 1 # CNN update number, U: [(1) Constant num. of iteration], (2) Lower limit of loss function value\n",
    "args.batch_size = 32 # Batch size, N\n",
    "args.replay_memory_size = 1000 # Replay memory size, K\n",
    "\n",
    "# # For Debugging\n",
    "# args.max_iteration = 5  # Maximum iteration num. of algorithm, MAX_STEPS\n",
    "# args.sample_num_per_iter = 3  # Simulation sample num. of each iteration of algorithm\n",
    "# args.experience_num_per_iter = 15  # Experience sample num. of each iteration of algorithm, h\n",
    "# args.replay_batch_num = 4  # Replay batch num., B\n",
    "# args.nn_update_num = 4  # CNN update number, U: [(1) Constant num. of iteration], (2) Lower limit of loss function value\n",
    "# args.batch_size = 8  # Batch size, N\n",
    "# args.replay_memory_size = 30  # Replay memory size, K\n",
    "\n",
    "args.gridnum_x = 15\n",
    "args.gridnum_y = 15\n",
    "args.gridsize_x = 120  # ft\n",
    "args.gridsize_y = 120  # ft\n",
    "\n",
    "args.time_step = 120  # days\n",
    "args.total_production_time = 600  # days\n",
    "\n",
    "args.prod_well_num_max = 5\n",
    "args.inj_well_num_max = 0\n",
    "args.total_well_num_max = args.prod_well_num_max + args.inj_well_num_max\n",
    "\n",
    "args.initial_PRESSURE = 3500  # psi\n",
    "args.initial_SOIL = 0.75\n",
    "\n",
    "# # 2023-05-02: For reproduction\n",
    "# args.random_seed = 202022673\n",
    "# random.seed(args.random_seed)\n",
    "# np.random.seed(args.random_seed)\n",
    "# torch.manual_seed(args.random_seed)\n",
    "\n",
    "# For calculation of revenue at each time step\n",
    "args.oil_price = 60  # $/bbl\n",
    "args.water_treatment = 3  # $/bbl\n",
    "args.water_injection = 5  # $/bbl\n",
    "\n",
    "# State: Pressure distribution, Oil saturation, Well placement map\n",
    "\n",
    "# Action: Well placement (Coordinate of well location)\n",
    "\n",
    "# Environment: Reservoir simulator\n",
    "\n",
    "# Reward: NPV at each time segment\n",
    "\n",
    "args.discount_rate = 0.1  # Used for calculation of NPV\n",
    "args.discount_factor = 1  # Used for Q-value update\n",
    "\n",
    "# Data for State\n",
    "args.input_flag = ('PRESSURE', 'SOIL', 'Well_placement')"
   ],
   "metadata": {
    "collapsed": false,
    "ExecuteTime": {
     "end_time": "2023-07-10T04:38:04.257615700Z",
     "start_time": "2023-07-10T04:38:04.241612100Z"
    }
   }
  },
  {
   "cell_type": "code",
   "execution_count": 40,
   "outputs": [],
   "source": [
    "# Create \"figure\" directory\n",
    "if not os.path.exists('figure'):\n",
    "    print('Simulation directory does not exist: Created Figure directory\\n')\n",
    "    os.mkdir('figure')\n",
    "\n",
    "# Read permeability map\n",
    "perm_field = []\n",
    "\n",
    "with open(os.path.join(args.basicfilepath, args.perm_filename + \".DATA\"), 'r') as file_read:\n",
    "    lines = file_read.readlines()\n",
    "    for line_num in range(args.gridnum_x * args.gridnum_y):\n",
    "        perm_field.append(float(lines[line_num + 1]))\n",
    "\n",
    "well_placement_dict = {}\n",
    "\n",
    "for step_num in range(1, args.max_iteration+1):\n",
    "    for sample_num in range(1, args.sample_num_per_iter+1):\n",
    "        well_loc_list = []\n",
    "        # Read Well placement of each sample\n",
    "        with open(os.path.join(args.simulation_directory, f\"Step{step_num}_Sample{sample_num}\", f\"{args.well_filename}_Sam{sample_num}_Seq{args.total_well_num_max}.DATA\")) as file_read:\n",
    "            line = file_read.readline()\n",
    "            for time_step in range(0, args.total_well_num_max):\n",
    "                line = file_read.readline()\n",
    "                line = file_read.readline()\n",
    "                line_list = [element.strip() for element in line.split()]\n",
    "                well_loc = (int(line_list[2]), int(line_list[3]))\n",
    "                well_loc_list.append(well_loc)\n",
    "                if time_step == args.total_well_num_max - 1:\n",
    "                    break\n",
    "                while not line.startswith(\"--WELL\"):\n",
    "                    line = file_read.readline()\n",
    "        # Save Well placement at dictionary [Key: Step{}_Sample{}, Value: list[well_loc -> tuple]]\n",
    "        well_placement_dict[f'Step{step_num}_Sample{sample_num}'] = well_loc_list\n",
    "\n",
    "\n",
    "# Draw well placement map at each Step\n",
    "for step_num in range(1, args.max_iteration+1):\n",
    "    list_x = []\n",
    "    list_y = []\n",
    "\n",
    "    for sample_num in range(1, args.sample_num_per_iter+1):\n",
    "        for well_location in range(len(well_placement_dict[f'Step{step_num}_Sample{sample_num}'])):\n",
    "            list_x.append(well_placement_dict[f'Step{step_num}_Sample{sample_num}'][well_location][0]-1) # Grid index: 0~(nx-1)\n",
    "            list_y.append(well_placement_dict[f'Step{step_num}_Sample{sample_num}'][well_location][1]-1) # Grid index: 0~(ny-1)\n",
    "    plt.figure(figsize=(8,6)) # Unit: inch\n",
    "    plt.tight_layout()\n",
    "    plt.scatter(list_x, list_y, c='k')\n",
    "    plt.imshow(np.log(np.array(perm_field)).reshape(15,15), cmap='jet')\n",
    "    cbar = plt.colorbar()\n",
    "    cbar.ax.set_ylabel(\"ln(Perm)\")\n",
    "    plt.gca().xaxis.tick_top()\n",
    "    plt.gca().set_xticks(range(0, 15))\n",
    "    plt.gca().set_xlabel(\"Grid X\", loc='center')\n",
    "    plt.gca().xaxis.set_label_position('top')\n",
    "    plt.gca().set_yticks(range(0, 15))\n",
    "    plt.gca().set_ylabel(\"Grid Y\")\n",
    "    plt.gca().set_title(f\"ln(Perm) map with well location (Step {step_num}, Total Sample Num. {args.sample_num_per_iter})\", font=\"Arial\", fontsize=16)\n",
    "    figname = f'Well placement-Step{step_num}' + '.png'\n",
    "    plt.savefig(os.path.join('figure', figname))\n",
    "    plt.close()"
   ],
   "metadata": {
    "collapsed": false,
    "ExecuteTime": {
     "end_time": "2023-07-10T05:55:48.630208100Z",
     "start_time": "2023-07-10T05:55:44.497117600Z"
    }
   }
  },
  {
   "cell_type": "markdown",
   "source": [
    "### NPV graph"
   ],
   "metadata": {
    "collapsed": false
   }
  },
  {
   "cell_type": "code",
   "execution_count": 22,
   "outputs": [],
   "source": [
    "os.chdir(\"../\")"
   ],
   "metadata": {
    "collapsed": false,
    "ExecuteTime": {
     "end_time": "2023-07-10T05:10:04.263695800Z",
     "start_time": "2023-07-10T05:10:04.256693800Z"
    }
   }
  },
  {
   "cell_type": "code",
   "execution_count": null,
   "outputs": [],
   "source": [],
   "metadata": {
    "collapsed": false
   }
  }
 ],
 "metadata": {
  "kernelspec": {
   "display_name": "Python 3",
   "language": "python",
   "name": "python3"
  },
  "language_info": {
   "codemirror_mode": {
    "name": "ipython",
    "version": 2
   },
   "file_extension": ".py",
   "mimetype": "text/x-python",
   "name": "python",
   "nbconvert_exporter": "python",
   "pygments_lexer": "ipython2",
   "version": "2.7.6"
  }
 },
 "nbformat": 4,
 "nbformat_minor": 0
}
